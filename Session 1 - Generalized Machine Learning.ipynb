{
 "cells": [
  {
   "cell_type": "markdown",
   "metadata": {
    "slideshow": {
     "slide_type": "slide"
    }
   },
   "source": [
    "# Generalized Machine Learning \n",
    "\n",
    "- A spatial description of the ML problem \n",
    "- The bias/variance trade-off \n",
    "- Model selection and search \n",
    "- Generalized machine learning \n",
    "- Deploying machine learning models"
   ]
  },
  {
   "cell_type": "code",
   "execution_count": 1,
   "metadata": {
    "slideshow": {
     "slide_type": "skip"
    }
   },
   "outputs": [],
   "source": [
    "%matplotlib inline \n",
    "\n",
    "import numpy as np\n",
    "import pandas as pd \n",
    "import seaborn as sns \n",
    "import matplotlib.pyplot as plt \n",
    "\n",
    "sns.set_context('notebook')\n",
    "sns.set_style('whitegrid')"
   ]
  },
  {
   "cell_type": "markdown",
   "metadata": {
    "slideshow": {
     "slide_type": "slide"
    }
   },
   "source": [
    "## What is Machine Learning?"
   ]
  },
  {
   "cell_type": "markdown",
   "metadata": {
    "slideshow": {
     "slide_type": "subslide"
    }
   },
   "source": [
    "“A field of study that gives computers the ability to learn without being explicitly programmed.” \n",
    "\n",
    "\n",
    "Arthur Samuel (1959)\n",
    "\n",
    "![Arthur Samuel](figures/arthur_samuel.jpg)\n"
   ]
  },
  {
   "cell_type": "markdown",
   "metadata": {
    "slideshow": {
     "slide_type": "subslide"
    }
   },
   "source": [
    "\"As babies, we watch our environments and start to understand the structure of objects we encounter, but until a parent tells us what it is, we can’t put a name to it...\" \n",
    "\n",
    "![Andrew Ng](figures/andrew_ng.jpg)"
   ]
  },
  {
   "cell_type": "markdown",
   "metadata": {
    "slideshow": {
     "slide_type": "subslide"
    }
   },
   "source": [
    "\"...With Deep Learning, you just give the system a lot of data so it can discover by itself what some of the concepts in the world are. Last year, one of his algorithms taught itself to recognize cats after scanning millions of images on the internet. The algorithm didn’t know the word 'cat' — scientists had to supply that — but over time, it learned to identify the furry creatures we know as cats, all on its own.\"\n",
    "\n",
    "\n",
    "Meta-cat:\n",
    "\n",
    "![Cat Detection](figures/cat_detection.jpeg)\n"
   ]
  },
  {
   "cell_type": "markdown",
   "metadata": {
    "slideshow": {
     "slide_type": "subslide"
    }
   },
   "source": [
    "\"Throughout the eighties and nineties, it was striking how many times people working within the 'ML community' realized that their ideas had had a lengthy pre-history in statistics. Decision trees, nearest neighbor, logistic regression, kernels, PCA, canonical correlation, graphical models, K- means and discriminant analysis come to mind, and also many general methodological principles...\"\n",
    "\n",
    "![Michael Jordan](figures/michael_jordan.jpeg)"
   ]
  },
  {
   "cell_type": "markdown",
   "metadata": {
    "slideshow": {
     "slide_type": "subslide"
    }
   },
   "source": [
    "\"...In general, 'statistics' refers in part to an analysis style - a statistician is happy to analyze the performance of any system, ... if it takes in data that can be considered random and outputs decisions that can be considered uncertain...\""
   ]
  },
  {
   "cell_type": "markdown",
   "metadata": {
    "slideshow": {
     "slide_type": "subslide"
    }
   },
   "source": [
    "\"...I don't think that the 'ML community' has developed many new inferential principles - or many new optimization principles - but I do think that the community has been exceedingly creative at taking existing ideas across many fields, and mixing and matching them to solve problems in emerging problem domains, and I think that the community has excelled at making creative use of new computing architectures.\" \n",
    "\n",
    "\n",
    "Michael Jordan (2014)"
   ]
  },
  {
   "cell_type": "markdown",
   "metadata": {
    "slideshow": {
     "slide_type": "subslide"
    }
   },
   "source": [
    "![Venn Diagram](figures/venn_diagram.png)"
   ]
  },
  {
   "cell_type": "markdown",
   "metadata": {
    "slideshow": {
     "slide_type": "subslide"
    }
   },
   "source": [
    "![Machine Learning Context to Data Mining and Statistics](figures/ml_context.png)"
   ]
  },
  {
   "cell_type": "markdown",
   "metadata": {
    "slideshow": {
     "slide_type": "subslide"
    }
   },
   "source": [
    "#### Data Science *is* Machine Learning \n",
    "\n",
    "The art of machine learning is to fit existing data to some model, creating a parameterized representation of the real world that is able to make decisions or predictions on new data based on previously discovered patterns. Models that are created from data are used in data products as the engines that create actionable results and generate even more data."
   ]
  },
  {
   "cell_type": "markdown",
   "metadata": {
    "slideshow": {
     "slide_type": "slide"
    }
   },
   "source": [
    "## The Machine Learning Problem"
   ]
  },
  {
   "cell_type": "markdown",
   "metadata": {
    "slideshow": {
     "slide_type": "subslide"
    }
   },
   "source": [
    "In general, a learning problem considers a set of n samples of data and then tries to predict properties of unknown data. \n",
    "\n",
    "If each sample is more than a single number, for instance, a multidimensional entry (aka multivariate data), is it said to have several attributes or features."
   ]
  },
  {
   "cell_type": "markdown",
   "metadata": {
    "slideshow": {
     "slide_type": "subslide"
    }
   },
   "source": [
    "### Learning from Examples\n",
    "\n",
    "Given a bunch of examples (data) extract a meaningful pattern upon which to act.\n",
    "\n",
    "![Learning from examples](figures/learning_from_ex.png)"
   ]
  },
  {
   "cell_type": "markdown",
   "metadata": {
    "slideshow": {
     "slide_type": "subslide"
    }
   },
   "source": [
    "### Categorized by Output Type\n",
    "\n",
    "Input training data to fit a model which is then used to predict incoming inputs into ...\n",
    "\n",
    "![Categorized by output type](figures/cat_by_output.png)"
   ]
  },
  {
   "cell_type": "markdown",
   "metadata": {
    "slideshow": {
     "slide_type": "subslide"
    }
   },
   "source": [
    "### Terminology\n",
    "\n",
    "“Model” is an overloaded term.\n",
    "\n",
    "• Model family describes, at the broadest possible level, the connection between the variables of interest. \n",
    "\n",
    "• Model form specifies exactly how the variables of interest are connected within the framework of the model family. \n",
    "\n",
    "• A fitted model is a concrete instance of the model form where all parameters have been estimated from data, and the model can be used to generate predictions.\n",
    "\n",
    "\n",
    "Hadley Wickham (2015)"
   ]
  },
  {
   "cell_type": "markdown",
   "metadata": {
    "slideshow": {
     "slide_type": "slide"
    }
   },
   "source": [
    "## Regression"
   ]
  },
  {
   "cell_type": "markdown",
   "metadata": {
    "slideshow": {
     "slide_type": "subslide"
    }
   },
   "source": [
    "### Hypothesis\n",
    "\n",
    "![regression](figures/regression.png)\n",
    "\n",
    "Given continuous input data fit a function that is able to predict the continuous value of input given other data."
   ]
  },
  {
   "cell_type": "code",
   "execution_count": 2,
   "metadata": {
    "slideshow": {
     "slide_type": "subslide"
    }
   },
   "outputs": [],
   "source": [
    "from sklearn.datasets import load_boston\n",
    "from sklearn.ensemble import RandomForestRegressor\n",
    "\n",
    "\n",
    "boston = load_boston()\n",
    "\n",
    "model = RandomForestRegressor()\n",
    "model.fit(boston.data, boston.target)\n",
    "\n",
    "expected = boston.target\n",
    "predicted = model.predict(boston.data)"
   ]
  },
  {
   "cell_type": "code",
   "execution_count": 3,
   "metadata": {
    "slideshow": {
     "slide_type": "subslide"
    }
   },
   "outputs": [
    {
     "name": "stdout",
     "output_type": "stream",
     "text": [
      "Random forest regression model on Boston housing dataset\n",
      "Mean squared error: 1.8013905138339914\n",
      "R2 score: 0.9786614548114699\n"
     ]
    }
   ],
   "source": [
    "from sklearn.metrics import mean_squared_error as mse\n",
    "from sklearn.metrics import r2_score\n",
    "\n",
    "\n",
    "print(\"Random forest regression model on Boston housing dataset\")\n",
    "print(\"Mean squared error: {}\".format(mse(expected, predicted)))\n",
    "print(\"R2 score: {}\".format(r2_score(expected, predicted)))"
   ]
  },
  {
   "cell_type": "markdown",
   "metadata": {
    "slideshow": {
     "slide_type": "slide"
    }
   },
   "source": [
    "## Classification"
   ]
  },
  {
   "cell_type": "markdown",
   "metadata": {
    "slideshow": {
     "slide_type": "subslide"
    }
   },
   "source": [
    "### Hypothesis\n",
    "\n",
    "![classification](figures/classification.png)\n",
    "\n",
    "Given labeled input data (with two or more labels), fit a function that can determine for any input, what the label is. "
   ]
  },
  {
   "cell_type": "code",
   "execution_count": 4,
   "metadata": {
    "slideshow": {
     "slide_type": "subslide"
    }
   },
   "outputs": [],
   "source": [
    "from sklearn.datasets import load_iris\n",
    "from sklearn.svm import SVC\n",
    "\n",
    "\n",
    "iris = load_iris()\n",
    "\n",
    "model = SVC()\n",
    "model.fit(iris.data, iris.target)\n",
    "\n",
    "expected = iris.target\n",
    "predicted = model.predict(iris.data)"
   ]
  },
  {
   "cell_type": "code",
   "execution_count": 5,
   "metadata": {
    "slideshow": {
     "slide_type": "subslide"
    }
   },
   "outputs": [
    {
     "name": "stdout",
     "output_type": "stream",
     "text": [
      "SVM Classifier on Iris dataset\n",
      "             precision    recall  f1-score   support\n",
      "\n",
      "     setosa       1.00      1.00      1.00        50\n",
      " versicolor       1.00      0.96      0.98        50\n",
      "  virginica       0.96      1.00      0.98        50\n",
      "\n",
      "avg / total       0.99      0.99      0.99       150\n",
      "\n"
     ]
    }
   ],
   "source": [
    "from sklearn.metrics import classification_report\n",
    "\n",
    "\n",
    "classes = ['setosa', 'versicolor', 'virginica']\n",
    "\n",
    "print(\"SVM Classifier on Iris dataset\")\n",
    "print(classification_report(expected, predicted, target_names=classes))\n"
   ]
  },
  {
   "cell_type": "markdown",
   "metadata": {
    "slideshow": {
     "slide_type": "slide"
    }
   },
   "source": [
    "## Clustering"
   ]
  },
  {
   "cell_type": "markdown",
   "metadata": {
    "slideshow": {
     "slide_type": "subslide"
    }
   },
   "source": [
    "### Hypothesis\n",
    "\n",
    "![clustering](figures/clustering.png)\n",
    "\n",
    "Given data, determine a pattern of associated data points or clusters via their similarity or distance from one another. "
   ]
  },
  {
   "cell_type": "code",
   "execution_count": 6,
   "metadata": {
    "slideshow": {
     "slide_type": "skip"
    }
   },
   "outputs": [],
   "source": [
    "import os\n",
    "import requests \n",
    "\n",
    "\n",
    "UCI_CUSTOMER_DATA_URL = \"https://bit.ly/2COHM14\"\n",
    "response = requests.get(UCI_CUSTOMER_DATA_URL)\n",
    "outpath  = os.path.abspath(\"data/customers.txt\")\n",
    "with open(outpath, 'wb') as f:\n",
    "    f.write(response.content)"
   ]
  },
  {
   "cell_type": "code",
   "execution_count": 7,
   "metadata": {
    "slideshow": {
     "slide_type": "subslide"
    }
   },
   "outputs": [],
   "source": [
    "from sklearn.cluster import KMeans\n",
    "from sklearn.decomposition import PCA\n",
    "\n",
    "\n",
    "cols = [\"Fresh\",\"Milk\",\"Grocery\",\"Frozen\",\"Detergents_Paper\",\"Delicassen\"]\n",
    "data = pd.read_csv(\"data/customers.txt\", usecols=cols)\n",
    "customers = data.values\n",
    "\n",
    "pca = PCA(n_components=2)\n",
    "reduced = pca.fit_transform(customers)\n",
    "\n",
    "model = KMeans(n_clusters=3)\n",
    "model.fit(reduced)\n",
    "\n",
    "labels = model.labels_\n",
    "centroids = model.cluster_centers_"
   ]
  },
  {
   "cell_type": "code",
   "execution_count": 8,
   "metadata": {
    "slideshow": {
     "slide_type": "subslide"
    }
   },
   "outputs": [
    {
     "name": "stdout",
     "output_type": "stream",
     "text": [
      "Silhouette score of KMeans (k=3) on the Customer dataset\n",
      "0.5229120824043509\n"
     ]
    }
   ],
   "source": [
    "from sklearn.metrics import silhouette_score\n",
    "\n",
    "\n",
    "print(\"Silhouette score of KMeans (k=3) on the Customer dataset\")\n",
    "print(silhouette_score(reduced, labels))"
   ]
  },
  {
   "cell_type": "code",
   "execution_count": 9,
   "metadata": {
    "slideshow": {
     "slide_type": "subslide"
    }
   },
   "outputs": [
    {
     "data": {
      "image/png": "[encoded data removed]",
      "text/plain": [
       "<Figure size 432x288 with 1 Axes>"
      ]
     },
     "metadata": {},
     "output_type": "display_data"
    }
   ],
   "source": [
    "import matplotlib.pyplot as plt\n",
    "import numpy as np\n",
    "\n",
    "for i in range(3):\n",
    "    datapoints = reduced[np.where(labels==i)]\n",
    "    plt.plot(datapoints[:,0],datapoints[:,1],'.')\n",
    "    centers = plt.plot(centroids[:,0],centroids[:,1],'x')\n",
    "    plt.setp(centers,markersize=20.0)\n",
    "    plt.setp(centers,markeredgewidth=5.0)\n",
    "\n",
    "plt.show()"
   ]
  },
  {
   "cell_type": "markdown",
   "metadata": {
    "slideshow": {
     "slide_type": "slide"
    }
   },
   "source": [
    "## Generalized Machine Learning"
   ]
  },
  {
   "cell_type": "markdown",
   "metadata": {
    "slideshow": {
     "slide_type": "subslide"
    }
   },
   "source": [
    "### Models: Instance Methods\n",
    "\n",
    "Compare instances in data set with a similarity measure to find best matches. \n",
    "\n",
    "Suffers from curse of dimensionality. \n",
    "\n",
    "Focus on feature representation and similarity metrics between instances\n",
    "\n",
    " - k-Nearest Neighbors (kNN)\n",
    " - Self-Organizing Maps (SOM)\n",
    " - Learning Vector Quantization (LVQ)\n"
   ]
  },
  {
   "cell_type": "markdown",
   "metadata": {
    "slideshow": {
     "slide_type": "subslide"
    }
   },
   "source": [
    "#### Regression Models\n",
    "\n",
    "Model relationship of independent variables, X to dependent variable Y by iteratively optimizing error made in predictions.\n",
    "\n",
    " - Ordinary Least Squares\n",
    " - Logistic Regression\n",
    " - Stepwise Regression\n",
    " - Multivariate Adaptive Regression Splines (MARS)\n",
    " - Locally Estimated Scatterplot Smoothing (LOESS)\n"
   ]
  },
  {
   "cell_type": "markdown",
   "metadata": {
    "slideshow": {
     "slide_type": "subslide"
    }
   },
   "source": [
    "#### Regularization Methods\n",
    "\n",
    "Extend another method (usually regression), penalizing complexity (minimize overfit)\n",
    "\n",
    "simple, popular, powerful \n",
    "\n",
    "better at generalization\n",
    "\n",
    " - Ridge Regression (L2)\n",
    " - LASSO (Least Absolute Shrinkage & Selection Operator) (L1)\n",
    " - Elastic Net (L1 + L2)\n"
   ]
  },
  {
   "cell_type": "markdown",
   "metadata": {
    "slideshow": {
     "slide_type": "subslide"
    }
   },
   "source": [
    "#### Decision Trees\n",
    "\n",
    "Model of decisions based on data attributes. Predictions are made by following forks in a tree structure until a decision is made. Used for classification & regression.\n",
    "\n",
    " - Classification and Regression Tree (CART)\n",
    " - Decision Stump\n",
    " - Random Forest\n",
    " - Multivariate Adaptive Regression Splines (MARS)\n",
    " - Gradient Boosting Machines (GBM)\n"
   ]
  },
  {
   "cell_type": "markdown",
   "metadata": {
    "slideshow": {
     "slide_type": "subslide"
    }
   },
   "source": [
    "#### Bayesian Models\n",
    "\n",
    "Explicitly apply Bayes’ Theorem for classification and regression tasks. Usually by fitting a probability function constructed via the chain rule and a naive simplification of Bayes.\n",
    "\n",
    " - Naive Bayes\n",
    " - Averaged One-Dependence Estimators (AODE)\n",
    " - Bayesian Belief Network (BBN)\n"
   ]
  },
  {
   "cell_type": "markdown",
   "metadata": {
    "slideshow": {
     "slide_type": "subslide"
    }
   },
   "source": [
    "#### Kernel Methods\n",
    "\n",
    "Map input data into higher dimensional vector space where the problem is easier to model. Named after the “kernel trick” which computes the inner product of images of pairs of data.\n",
    "\n",
    " - Support Vector Machines (SVM)\n",
    " - Radial Basis Function (RBF)\n",
    " - Linear Discriminant Analysis (LDA)\n"
   ]
  },
  {
   "cell_type": "markdown",
   "metadata": {
    "slideshow": {
     "slide_type": "subslide"
    }
   },
   "source": [
    "#### Clustering Methods\n",
    "\n",
    "Organize data into groups whose members share maximum similarity (defined usually by a distance metric). Two main approaches: centroids and hierarchical clustering.\n",
    "\n",
    " - k-Means\n",
    " - Affinity Propagation\n",
    " - OPTICS (Ordering Points to Identify Cluster Structure)\n",
    " - Agglomerative Clustering\n"
   ]
  },
  {
   "cell_type": "markdown",
   "metadata": {
    "slideshow": {
     "slide_type": "subslide"
    }
   },
   "source": [
    "#### Artificial Neural Networks\n",
    "\n",
    "Inspired by biological neural networks, ANNs are nonlinear function approximators that estimate functions with a large number of inputs.\n",
    "\n",
    "System of interconnected neurons that activate \n",
    "\n",
    "Deep learning extends simple networks recursively\n",
    "\n",
    " - Perceptron\n",
    " - Back-Propagation\n",
    " - Hopfield Network\n",
    " - Restricted Boltzmann Machine (RBM)\n",
    " - Deep Neural Networks (DBN)\n"
   ]
  },
  {
   "cell_type": "markdown",
   "metadata": {
    "slideshow": {
     "slide_type": "subslide"
    }
   },
   "source": [
    "#### Ensemble Models\n",
    "\n",
    "Models composed of multiple weak models that are trained independently and whose outputs are combined to make an overall prediction.\n",
    "\n",
    " - Boosting\n",
    " - Bootstrapped Aggregation (Bagging)\n",
    " - AdaBoost\n",
    " - Stacked Generalization (blending)\n",
    " - Gradient Boosting Machines (GBM)\n",
    " - Random Forest\n"
   ]
  },
  {
   "cell_type": "markdown",
   "metadata": {
    "slideshow": {
     "slide_type": "subslide"
    }
   },
   "source": [
    "#### Other Models\n",
    "\n",
    "The list before was not comprehensive, other algorithm and model classes include:\n",
    "\n",
    " - Conditional Random Fields (CRF)\n",
    " - Markovian Models (HMMs)\n",
    " - Dimensionality Reduction (PCA, PLS)\n",
    " - Rule Learning (Apriori, Brill)\n",
    " - More ...\n"
   ]
  },
  {
   "cell_type": "markdown",
   "metadata": {
    "slideshow": {
     "slide_type": "slide"
    }
   },
   "source": [
    "### Features\n",
    "\n",
    "In order to do machine learning you need a data set containing instances (examples) that are composed of features from which you compose dimensions. \n",
    "\n",
    "**Instance**: a single data point or example composed of fields\n",
    "\n",
    "**Feature**: a numeric quantity describing an instance \n",
    "\n",
    "**Dimension**: one or more attributes that describe a property\n",
    "\n",
    "![feature space](figures/feature_space.png)"
   ]
  },
  {
   "cell_type": "code",
   "execution_count": 10,
   "metadata": {
    "slideshow": {
     "slide_type": "subslide"
    }
   },
   "outputs": [],
   "source": [
    "from sklearn.datasets import load_digits\n",
    "\n",
    "\n",
    "digits = load_digits()\n",
    "\n",
    "X = digits.data      # X.shape == (n_samples, n_features)\n",
    "y = digits.target    # y.shape == (n_samples,)"
   ]
  },
  {
   "cell_type": "markdown",
   "metadata": {
    "slideshow": {
     "slide_type": "subslide"
    }
   },
   "source": [
    "Feature space refers to the n-dimensions where your variables live (not including a target variable or class). The term is used often in ML literature because in ML all variables are features (usually) and feature extraction is the art of creating a space with decision boundaries. \n",
    "\n",
    "**Target**\n",
    "Y ≡ Thickness of car tires after some testing period\n",
    "\n",
    "**Variables**\n",
    "X1 ≡ distance travelled in test\n",
    "X2 ≡ time duration of test\n",
    "X3 ≡ amount of chemical C in tires\n",
    "\n",
    "The feature space is R3, or more accurately, the positive quadrant in R3 as all the X variables can only be positive quantities. "
   ]
  },
  {
   "cell_type": "markdown",
   "metadata": {
    "slideshow": {
     "slide_type": "subslide"
    }
   },
   "source": [
    "### Parameters and Hyperparameters\n",
    "\n",
    "Domain knowledge about tires might suggest that the speed the vehicle was moving at is important, hence we generate another variable, X4 (this is the feature extraction part):\n",
    "\n",
    "X4 = X1 / X2 ≡ the speed of the vehicle during testing.\n",
    "\n",
    "This extends our old feature space into a new one, the positive part of R4.\n",
    "\n",
    "A mapping is a function, ϕ, from R3 to R4:\n",
    "\n",
    "ϕ(x1,x2,x3) = (x1,x2,x3,x1x2)\n",
    "\n",
    "![mapping](figures/mapping.jpg)"
   ]
  },
  {
   "cell_type": "markdown",
   "metadata": {
    "slideshow": {
     "slide_type": "subslide"
    }
   },
   "source": [
    "### Feature Engineering\n",
    "\n",
    "“feature engineering is another topic which doesn’t seem to merit any review papers or books, or even chapters in books, but it is absolutely vital to ML success... Much of the success of machine learning is actually success in engineering features that a learner can understand.” \n",
    "\n",
    "Scott Locklin, in “Neglected machine learning ideas”"
   ]
  },
  {
   "cell_type": "markdown",
   "metadata": {
    "slideshow": {
     "slide_type": "fragment"
    }
   },
   "source": [
    "Feature engineering is the process of transforming raw data into features that better represent the underlying problem to the predictive models, resulting in improved model accuracy on unseen data.\n",
    "\n",
    "Jason Brownlee, in “Discover Feature Engineering”"
   ]
  },
  {
   "cell_type": "markdown",
   "metadata": {
    "slideshow": {
     "slide_type": "slide"
    }
   },
   "source": [
    "## Machine Learning API"
   ]
  },
  {
   "cell_type": "markdown",
   "metadata": {
    "slideshow": {
     "slide_type": "subslide"
    }
   },
   "source": [
    "![Choosing the Right Estimator](figures/choosing_estimator.png)"
   ]
  },
  {
   "cell_type": "markdown",
   "metadata": {
    "slideshow": {
     "slide_type": "subslide"
    }
   },
   "source": [
    "Object-oriented interface centered around the concept of an Estimator: \n",
    "\n",
    "“An estimator is any object that learns from data; it may be a classification, regression or clustering algorithm or a transformer that extracts/filters useful features from raw data.”\n",
    "\n",
    "Scikit-Learn Tutorial"
   ]
  },
  {
   "cell_type": "markdown",
   "metadata": {
    "slideshow": {
     "slide_type": "subslide"
    }
   },
   "source": [
    "### Estimators\n",
    "\n",
    " - `fit(X,y)` sets the state of the estimator.\n",
    " - `X` is usually a 2D `numpy` array of shape `(num_samples, num_features)`.\n",
    " - `y` is a 1D array with shape `(n_samples,)`\n",
    " - When can `y` be `None`?\n",
    " - `Fit` returns `self`. \n"
   ]
  },
  {
   "cell_type": "code",
   "execution_count": 11,
   "metadata": {
    "slideshow": {
     "slide_type": "subslide"
    }
   },
   "outputs": [],
   "source": [
    "class Estimator(object):\n",
    "    \n",
    "    def get_params(self):\n",
    "        \"\"\"\n",
    "        Returns a dictionary of all hyperparams \n",
    "        \"\"\"\n",
    "        pass \n",
    "\n",
    "    def set_params(self, **params):\n",
    "        \"\"\"\n",
    "        Sets hyperparams on the instance \n",
    "        \"\"\"\n",
    "        pass \n",
    "\n",
    "    def fit(self, X, y=None, **kwargs):\n",
    "        \"\"\"\n",
    "        Fit the estimator from data\n",
    "        \"\"\"\n",
    "        # Modify state of self \n",
    "        return self"
   ]
  },
  {
   "cell_type": "markdown",
   "metadata": {
    "slideshow": {
     "slide_type": "subslide"
    }
   },
   "source": [
    "### Predictors\n",
    "\n",
    " - `predict(X)` returns the class or value\n",
    " - `X` is a 2D `numpy` array with shape `(n_rows, n_features)`\n",
    " - Returns a 1D vector with shape `(n_rows,)`\n",
    " - `predict_proba()` returns a 2D array of shape `(n_rows, n_classes)`"
   ]
  },
  {
   "cell_type": "code",
   "execution_count": 12,
   "metadata": {
    "slideshow": {
     "slide_type": "subslide"
    }
   },
   "outputs": [],
   "source": [
    "class Predictor(Estimator):\n",
    "    \n",
    "    def predict(self, X, **kwargs):\n",
    "        \"\"\"\n",
    "        Predict values for each row in X \n",
    "        \"\"\"\n",
    "        return y_hat"
   ]
  },
  {
   "cell_type": "markdown",
   "metadata": {
    "slideshow": {
     "slide_type": "subslide"
    }
   },
   "source": [
    "```python\n",
    "from sklearn import svm\n",
    "\n",
    "estimator = svm.SVC(gamma=0.001)\n",
    "estimator.fit(X, y)\n",
    "estimator.predict(x)\n",
    "```"
   ]
  },
  {
   "cell_type": "markdown",
   "metadata": {
    "slideshow": {
     "slide_type": "subslide"
    }
   },
   "source": [
    "### Models \n",
    "\n",
    " - `score(X, y=None)` returns a descriptive metric between 0 and 1 where 0 is bad and 1 is good. \n",
    " - `X` is a 2D `numpy` array with shape `(n_rows, n_features)`\n",
    " - `y` is optionally a 1D vector with \"correct labels\""
   ]
  },
  {
   "cell_type": "code",
   "execution_count": 13,
   "metadata": {
    "slideshow": {
     "slide_type": "subslide"
    }
   },
   "outputs": [],
   "source": [
    "class Model(Predictor):\n",
    "    \n",
    "    def score(self, X, y=None, **kwargs):\n",
    "        \"\"\"\n",
    "        Return a score between 0 and 1\n",
    "        \"\"\"\n",
    "        return score"
   ]
  },
  {
   "cell_type": "markdown",
   "metadata": {
    "slideshow": {
     "slide_type": "subslide"
    }
   },
   "source": [
    "### Transformers\n",
    "\n",
    " - `transform(X)` transforms input data to prepare it for ML.\n",
    " - `X` is a 2D `numpy` array with shape `(n_rows, n_features)`\n",
    " - `X_prime` is a 2D `numpy` array with shape `(m_rows, m_features)`"
   ]
  },
  {
   "cell_type": "code",
   "execution_count": 14,
   "metadata": {
    "slideshow": {
     "slide_type": "subslide"
    }
   },
   "outputs": [],
   "source": [
    "class Transformer(Estimator):\n",
    "    \n",
    "    def transform(self, X, **kwargs):\n",
    "        \"\"\"\n",
    "        Modifies X and returns a new X' \n",
    "        \"\"\"\n",
    "        return X_prime"
   ]
  },
  {
   "cell_type": "markdown",
   "metadata": {},
   "source": [
    "### Data Preprocessing\n",
    "\n",
    "Scikit-Learn provides a utility package, preprocessing to transform raw feature vectors into representations that assist downstream processing, including:\n",
    "\n",
    "**Standardization**: transform data to mean = zero and unit variance. \n",
    "**Scaling**: transform feature to lie between range, usually `[0,1]`\n",
    "**Normalization**: scaling features to a unit norm\n",
    "**Binarization**: thresholding features to get binary values\n",
    "**Label Encoding**: transforming labels to numeric values\n",
    "**Imputation**: infer missing values from known parts of the data\n",
    "**Data Reduction**: use unsupervised methods to reduce dimensionality."
   ]
  },
  {
   "cell_type": "markdown",
   "metadata": {
    "slideshow": {
     "slide_type": "subslide"
    }
   },
   "source": [
    "### Pipelines\n",
    "\n",
    "The purpose of the pipeline is to assemble several steps that can be cross-validated and operationalized together.\n",
    "\n",
    "Sequentially applies a list of transforms and a final estimator. Intermediate steps of the pipeline must be ‘transforms’, that is, they must implement `fit()` and `transform()` methods. The final estimator only needs to implement `fit()`."
   ]
  },
  {
   "cell_type": "code",
   "execution_count": 15,
   "metadata": {
    "slideshow": {
     "slide_type": "subslide"
    }
   },
   "outputs": [],
   "source": [
    "class Pipeline(Transformer):\n",
    "\n",
    "    @property\n",
    "    def named_steps(self):\n",
    "        \"\"\"\n",
    "        Sequence of estimators\n",
    "        \"\"\"\n",
    "        return self.steps\n",
    "\n",
    "    @property\n",
    "    def _final_estimator(self):\n",
    "        \"\"\"\n",
    "        Terminating estimator\n",
    "        \"\"\"\n",
    "        return self.steps[-1]\n"
   ]
  },
  {
   "cell_type": "markdown",
   "metadata": {
    "slideshow": {
     "slide_type": "slide"
    }
   },
   "source": [
    "## Model Selection"
   ]
  },
  {
   "cell_type": "markdown",
   "metadata": {
    "slideshow": {
     "slide_type": "subslide"
    }
   },
   "source": [
    "Ok, I’ve fitted a model. How do I know if it’s any good?"
   ]
  },
  {
   "cell_type": "markdown",
   "metadata": {
    "slideshow": {
     "slide_type": "subslide"
    }
   },
   "source": [
    "### Model Selection Triple\n",
    "\n",
    "![Model Selection Triple](figures/model_selection_triple.png)"
   ]
  },
  {
   "cell_type": "markdown",
   "metadata": {
    "slideshow": {
     "slide_type": "subslide"
    }
   },
   "source": [
    "### A Search Problem"
   ]
  },
  {
   "cell_type": "markdown",
   "metadata": {
    "slideshow": {
     "slide_type": "subslide"
    }
   },
   "source": [
    "### Visual Steering"
   ]
  },
  {
   "cell_type": "markdown",
   "metadata": {
    "slideshow": {
     "slide_type": "slide"
    }
   },
   "source": [
    "## Complexity"
   ]
  },
  {
   "cell_type": "markdown",
   "metadata": {
    "slideshow": {
     "slide_type": "subslide"
    }
   },
   "source": [
    "### Underfitting"
   ]
  },
  {
   "cell_type": "markdown",
   "metadata": {
    "slideshow": {
     "slide_type": "subslide"
    }
   },
   "source": [
    "### Overfitting"
   ]
  },
  {
   "cell_type": "markdown",
   "metadata": {
    "slideshow": {
     "slide_type": "subslide"
    }
   },
   "source": [
    "### Cross-Validation"
   ]
  },
  {
   "cell_type": "markdown",
   "metadata": {
    "slideshow": {
     "slide_type": "subslide"
    }
   },
   "source": [
    "### Bias and Variance"
   ]
  },
  {
   "cell_type": "markdown",
   "metadata": {
    "slideshow": {
     "slide_type": "subslide"
    }
   },
   "source": [
    "### Sources of Complexity"
   ]
  },
  {
   "cell_type": "markdown",
   "metadata": {
    "slideshow": {
     "slide_type": "subslide"
    }
   },
   "source": [
    "### Interpretability"
   ]
  },
  {
   "cell_type": "markdown",
   "metadata": {
    "slideshow": {
     "slide_type": "slide"
    }
   },
   "source": [
    "## Deployment"
   ]
  },
  {
   "cell_type": "markdown",
   "metadata": {
    "slideshow": {
     "slide_type": "subslide"
    }
   },
   "source": [
    "### Classification/Regression Workflow"
   ]
  },
  {
   "cell_type": "markdown",
   "metadata": {
    "slideshow": {
     "slide_type": "subslide"
    }
   },
   "source": [
    "### Clustering Workflow"
   ]
  },
  {
   "cell_type": "markdown",
   "metadata": {
    "slideshow": {
     "slide_type": "subslide"
    }
   },
   "source": [
    "### Data Product Pipeline"
   ]
  }
 ],
 "metadata": {
  "celltoolbar": "Slideshow",
  "kernelspec": {
   "display_name": "Python 3",
   "language": "python",
   "name": "python3"
  },
  "language_info": {
   "codemirror_mode": {
    "name": "ipython",
    "version": 3
   },
   "file_extension": ".py",
   "mimetype": "text/x-python",
   "name": "python",
   "nbconvert_exporter": "python",
   "pygments_lexer": "ipython3",
   "version": "3.6.5"
  }
 },
 "nbformat": 4,
 "nbformat_minor": 2
}
