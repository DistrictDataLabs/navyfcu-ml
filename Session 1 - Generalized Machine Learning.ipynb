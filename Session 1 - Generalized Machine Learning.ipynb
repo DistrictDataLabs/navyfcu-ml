{
 "cells": [
  {
   "cell_type": "markdown",
   "metadata": {
    "slideshow": {
     "slide_type": "slide"
    }
   },
   "source": [
    "# Generalized Machine Learning "
   ]
  },
  {
   "cell_type": "code",
   "execution_count": 27,
   "metadata": {
    "slideshow": {
     "slide_type": "skip"
    }
   },
   "outputs": [],
   "source": [
    "%matplotlib inline \n",
    "\n",
    "import numpy as np\n",
    "import pandas as pd \n",
    "import seaborn as sns \n",
    "import matplotlib.pyplot as plt \n",
    "\n",
    "sns.set_context('notebook')\n",
    "sns.set_style('whitegrid')"
   ]
  },
  {
   "cell_type": "markdown",
   "metadata": {
    "slideshow": {
     "slide_type": "slide"
    }
   },
   "source": [
    "## The Machine Learning Problem\n",
    "\n",
    "Given a set of $n$ samples of data such that each sample is represented by more than a single number, e.g. multivariate data that has several attributes or features, create a model that is able to predict unknown properties of each sample. "
   ]
  },
  {
   "cell_type": "markdown",
   "metadata": {
    "slideshow": {
     "slide_type": "fragment"
    }
   },
   "source": [
    "_Spatial interpretation_: given data points in a bounded, high dimensional space, define regions of decisions for any point in that space."
   ]
  },
  {
   "cell_type": "markdown",
   "metadata": {
    "slideshow": {
     "slide_type": "subslide"
    }
   },
   "source": [
    "### Learning by Example\n",
    "\n",
    "Given a bunch of examples (data) extract a meaningful pattern upon which to act.\n",
    "\n",
    "![Learning from examples](figures/learning_from_ex.png)"
   ]
  },
  {
   "cell_type": "markdown",
   "metadata": {
    "slideshow": {
     "slide_type": "subslide"
    }
   },
   "source": [
    "### Types of Algorithms\n",
    "\n",
    "Input _training_ data to fit a model which is then used to predict incoming inputs into ...\n",
    "\n",
    "![Categorized by output type](figures/cat_by_output.png)"
   ]
  },
  {
   "cell_type": "markdown",
   "metadata": {
    "slideshow": {
     "slide_type": "subslide"
    }
   },
   "source": [
    "### Terminology\n",
    "\n",
    "<dl style=\"margin-top:20px\">\n",
    "    <dt>Instance</dt>\n",
    "        <dd>A single data point or example composed of multiple fields.<br/>Should be able to describe instances as a noun.</dd>\n",
    "    <dt>Feature</dt>\n",
    "        <dd>A numeric quantity describing an instance</dd>\n",
    "    <dt>Target</dt>\n",
    "        <dd>The property or field that we're trying to predict</dd>\n",
    "    <dt>Dimension</dt>\n",
    "        <dd>A semi-bounded region whose range describes all possible values of a feature</dd>\n",
    "</dl>"
   ]
  },
  {
   "cell_type": "markdown",
   "metadata": {
    "slideshow": {
     "slide_type": "slide"
    }
   },
   "source": [
    "## Regression\n",
    "\n",
    "![regression](figures/regression.png)\n",
    "\n",
    "**Hypothesis:** Given continuous input data fit a function that is able to predict the continuous value of input given other data."
   ]
  },
  {
   "cell_type": "markdown",
   "metadata": {
    "slideshow": {
     "slide_type": "notes"
    }
   },
   "source": [
    "TODO: add code to generate above image to utils"
   ]
  },
  {
   "cell_type": "code",
   "execution_count": 17,
   "metadata": {
    "slideshow": {
     "slide_type": "subslide"
    }
   },
   "outputs": [
    {
     "name": "stdout",
     "output_type": "stream",
     "text": [
      "Predicted Price = 25.91 for:\n",
      "CRIM: 0.006\n",
      "ZN: 18.000\n",
      "INDUS: 2.310\n",
      "CHAS: 0.000\n",
      "NOX: 0.538\n",
      "RM: 6.575\n",
      "AGE: 65.200\n",
      "DIS: 4.090\n",
      "RAD: 1.000\n",
      "TAX: 296.000\n",
      "PTRATIO: 15.300\n",
      "B: 396.900\n",
      "LSTAT: 4.980\n"
     ]
    }
   ],
   "source": [
    "from sklearn.datasets import load_boston\n",
    "from sklearn.ensemble import RandomForestRegressor\n",
    "\n",
    "# Load Dataset \n",
    "boston = load_boston()\n",
    "\n",
    "# Fit a model to the data and target \n",
    "model = RandomForestRegressor()\n",
    "model.fit(boston.data, boston.target)\n",
    "\n",
    "# Make predictions on the data\n",
    "predicted = model.predict(boston.data)\n",
    "\n",
    "print(\"Predicted Price = {:0.2f} for:\".format(predicted[0]))\n",
    "print(\"\\n\".join([\"{}: {:0.3f}\".format(k,v) for k, v in zip(boston.feature_names, boston.data[0])]))"
   ]
  },
  {
   "cell_type": "code",
   "execution_count": 5,
   "metadata": {
    "slideshow": {
     "slide_type": "subslide"
    }
   },
   "outputs": [
    {
     "name": "stdout",
     "output_type": "stream",
     "text": [
      "Random forest regression model on Boston housing dataset\n",
      "Mean squared error: 1.5715924901185778\n",
      "R2 score: 0.9813835494797991\n"
     ]
    }
   ],
   "source": [
    "from sklearn.metrics import mean_squared_error as mse\n",
    "from sklearn.metrics import r2_score\n",
    "\n",
    "expected = boston.target\n",
    "print(\"Random forest regression model on Boston housing dataset\")\n",
    "print(\"Mean squared error: {}\".format(mse(expected, predicted)))\n",
    "print(\"R2 score: {}\".format(r2_score(expected, predicted)))"
   ]
  },
  {
   "cell_type": "markdown",
   "metadata": {
    "slideshow": {
     "slide_type": "slide"
    }
   },
   "source": [
    "## Classification\n",
    "\n",
    "![classification](figures/classification.png)\n",
    "\n",
    "**Hypothesis:** Given labeled input data (with two or more labels), fit a function that can determine for any input, what the label is. "
   ]
  },
  {
   "cell_type": "markdown",
   "metadata": {
    "slideshow": {
     "slide_type": "notes"
    }
   },
   "source": [
    "TODO: add code to generate above image to utils"
   ]
  },
  {
   "cell_type": "code",
   "execution_count": 25,
   "metadata": {
    "slideshow": {
     "slide_type": "subslide"
    }
   },
   "outputs": [
    {
     "name": "stdout",
     "output_type": "stream",
     "text": [
      "Predicted Class = \"setosa\" for:\n",
      "sepal length (cm): 5.100\n",
      "sepal width (cm): 3.500\n",
      "petal length (cm): 1.400\n",
      "petal width (cm): 0.200\n"
     ]
    }
   ],
   "source": [
    "from sklearn.datasets import load_iris\n",
    "from sklearn.svm import SVC\n",
    "\n",
    "\n",
    "iris = load_iris()\n",
    "\n",
    "model = SVC()\n",
    "model.fit(iris.data, iris.target)\n",
    "\n",
    "predicted = model.predict(iris.data)\n",
    "\n",
    "print(\"Predicted Class = \\\"{}\\\" for:\".format(iris.target_names[predicted[0]]))\n",
    "print(\"\\n\".join([\"{}: {:0.3f}\".format(k,v) for k, v in zip(iris.feature_names, iris.data[0])]))"
   ]
  },
  {
   "cell_type": "code",
   "execution_count": 21,
   "metadata": {
    "slideshow": {
     "slide_type": "subslide"
    }
   },
   "outputs": [
    {
     "name": "stdout",
     "output_type": "stream",
     "text": [
      "SVM Classifier on Iris dataset\n",
      "             precision    recall  f1-score   support\n",
      "\n",
      "     setosa       1.00      1.00      1.00        50\n",
      " versicolor       1.00      0.96      0.98        50\n",
      "  virginica       0.96      1.00      0.98        50\n",
      "\n",
      "avg / total       0.99      0.99      0.99       150\n",
      "\n"
     ]
    }
   ],
   "source": [
    "from sklearn.metrics import classification_report\n",
    "\n",
    "expected = iris.target\n",
    "\n",
    "print(\"SVM Classifier on Iris dataset\")\n",
    "print(classification_report(expected, predicted, target_names=iris.target_names))"
   ]
  },
  {
   "cell_type": "markdown",
   "metadata": {
    "slideshow": {
     "slide_type": "slide"
    }
   },
   "source": [
    "## Clustering\n",
    "\n",
    "![clustering](figures/clustering.png)\n",
    "\n",
    "**Hypothesis:** Given data, determine a pattern of associated data points or clusters via their similarity or distance from one another. "
   ]
  },
  {
   "cell_type": "markdown",
   "metadata": {
    "slideshow": {
     "slide_type": "notes"
    }
   },
   "source": [
    "TODO: add code to generate above image to utils"
   ]
  },
  {
   "cell_type": "code",
   "execution_count": 43,
   "metadata": {
    "slideshow": {
     "slide_type": "subslide"
    }
   },
   "outputs": [],
   "source": [
    "from sklearn.cluster import KMeans\n",
    "from sklearn.decomposition import PCA\n",
    "\n",
    "cols = [\"Fresh\",\"Milk\",\"Grocery\",\"Frozen\",\"Detergents_Paper\",\"Delicassen\"]\n",
    "data = pd.read_csv(\"data/customers.txt\", usecols=cols)\n",
    "\n",
    "pca = PCA(n_components=2)\n",
    "reduced = pca.fit_transform(data)\n",
    "\n",
    "model = KMeans(n_clusters=3)\n",
    "model.fit(reduced)\n",
    "\n",
    "centroids = model.cluster_centers_"
   ]
  },
  {
   "cell_type": "code",
   "execution_count": 44,
   "metadata": {
    "slideshow": {
     "slide_type": "subslide"
    }
   },
   "outputs": [
    {
     "name": "stdout",
     "output_type": "stream",
     "text": [
      "Silhouette score of KMeans (k=3) on the Customer dataset\n",
      "0.5233180004795728\n"
     ]
    }
   ],
   "source": [
    "from sklearn.metrics import silhouette_score\n",
    "\n",
    "\n",
    "print(\"Silhouette score of KMeans (k=3) on the Customer dataset\")\n",
    "print(silhouette_score(reduced, labels))"
   ]
  },
  {
   "cell_type": "code",
   "execution_count": 59,
   "metadata": {
    "slideshow": {
     "slide_type": "skip"
    }
   },
   "outputs": [],
   "source": [
    "# TODO: move to utils and import \n",
    "def draw_clusters(model=model, reduced=reduced):\n",
    "    _, ax = plt.subplots(figsize=(9,6))\n",
    "    centroids = model.cluster_centers_\n",
    "    \n",
    "    for i in range(centroids.shape[0]):\n",
    "        datapoints = reduced[np.where(model.labels_==i)]\n",
    "        \n",
    "        ax.plot(datapoints[:,0],datapoints[:,1], '.')\n",
    "    \n",
    "    centers = ax.plot(centroids[:,0],centroids[:,1],'x', markersize=20, mew=5)\n",
    "    ax.set_xticklabels([])\n",
    "    ax.set_yticklabels([])\n",
    "    ax.set_xlabel(\"principle component 0\")\n",
    "    ax.set_ylabel(\"principle component 1\")    \n",
    "    \n",
    "    return ax "
   ]
  },
  {
   "cell_type": "markdown",
   "metadata": {
    "slideshow": {
     "slide_type": "notes"
    }
   },
   "source": [
    "TODO: add code above to utils, and potentially create a new Yellowbrick visualizer from it! "
   ]
  },
  {
   "cell_type": "code",
   "execution_count": 60,
   "metadata": {
    "slideshow": {
     "slide_type": "subslide"
    }
   },
   "outputs": [
    {
     "data": {
      "text/plain": [
       "<matplotlib.axes._subplots.AxesSubplot at 0x11f324e80>"
      ]
     },
     "execution_count": 60,
     "metadata": {},
     "output_type": "execute_result"
    },
    {
     "data": {
      "image/png": "[encoded data removed]",
      "text/plain": [
       "<Figure size 648x432 with 1 Axes>"
      ]
     },
     "metadata": {
      "needs_background": "light"
     },
     "output_type": "display_data"
    }
   ],
   "source": [
    "draw_clusters()"
   ]
  },
  {
   "cell_type": "markdown",
   "metadata": {
    "slideshow": {
     "slide_type": "slide"
    }
   },
   "source": [
    "## Generalized Machine Learning\n",
    "\n",
    "The spatial interpretation of machine learning has led to a generalized framework that encompasses a large range of statistical techniques and optimization procedures. The generalization is specified by the primary components of a model:\n",
    "\n",
    "- Features and training data \n",
    "- Algorithm and optimization \n",
    "- Parameters and hyperparameters "
   ]
  },
  {
   "cell_type": "markdown",
   "metadata": {
    "slideshow": {
     "slide_type": "subslide"
    }
   },
   "source": [
    "### Features\n",
    "\n",
    "Features are the numeric properties that represent _instances_ - the samples of data that we learn on. All machine learning requires a data set of _sufficient size_ in order to train models; the size of the dataset required often depends on the number of features required for predictability. \n",
    "\n",
    "![feature space](figures/feature_space.png)"
   ]
  },
  {
   "cell_type": "markdown",
   "metadata": {
    "slideshow": {
     "slide_type": "subslide"
    }
   },
   "source": [
    "### Feature Space\n",
    "\n",
    "Feature space refers to the n-dimensions where your variables live (not including a target variable or class). The term is used often in ML literature because in ML all variables are features (usually) and feature extraction is the art of creating a space with decision boundaries. \n",
    "\n",
    "**Target**\n",
    "- Y ≡ Thickness of car tires after some testing period\n",
    "\n",
    "**Variables**\n",
    "- X1 ≡ distance travelled in test\n",
    "- X2 ≡ time duration of test\n",
    "- X3 ≡ amount of chemical C in tires\n",
    "\n",
    "The feature space is R3, or more accurately, the positive quadrant in R3 as all the X variables can only be positive quantities. "
   ]
  },
  {
   "cell_type": "markdown",
   "metadata": {
    "slideshow": {
     "slide_type": "subslide"
    }
   },
   "source": [
    "### Mappings and Transformations\n",
    "\n",
    "Domain knowledge about tires might suggest that the speed the vehicle was moving at is important, hence we generate another variable, X4 (this is the feature extraction part):\n",
    "\n",
    "X4 = X1 / X2 ≡ the speed of the vehicle during testing.\n",
    "\n",
    "This extends our old feature space into a new one, the positive part of R4.\n",
    "\n",
    "A mapping is a function, $\\phi$, from R3 to R4:\n",
    "\n",
    "\n",
    "$$\\phi(x1,x2,x3) = (x1,x2,x3,x1x2)$$\n",
    "\n",
    "![mapping](figures/mapping.jpg)"
   ]
  },
  {
   "cell_type": "markdown",
   "metadata": {
    "slideshow": {
     "slide_type": "subslide"
    }
   },
   "source": [
    "### Feature Extraction \n",
    "\n",
    "Real-world data is often not represented numerically out of the box (e.g. text, images), therefore some transformation must be applied in order to do machine learning. \n",
    "\n",
    "![Hand Written Digits](figures/hand_written_digits.png)"
   ]
  },
  {
   "cell_type": "code",
   "execution_count": 63,
   "metadata": {
    "slideshow": {
     "slide_type": "fragment"
    }
   },
   "outputs": [
    {
     "data": {
      "text/plain": [
       "array([ 0.,  0.,  5., 13.,  9.,  1.,  0.,  0.,  0.,  0., 13., 15., 10.,\n",
       "       15.,  5.,  0.,  0.,  3., 15.,  2.,  0., 11.,  8.,  0.,  0.,  4.,\n",
       "       12.,  0.,  0.,  8.,  8.,  0.,  0.,  5.,  8.,  0.,  0.,  9.,  8.,\n",
       "        0.,  0.,  4., 11.,  0.,  1., 12.,  7.,  0.,  0.,  2., 14.,  5.,\n",
       "       10., 12.,  0.,  0.,  0.,  0.,  6., 13., 10.,  0.,  0.,  0.])"
      ]
     },
     "execution_count": 63,
     "metadata": {},
     "output_type": "execute_result"
    }
   ],
   "source": [
    "from sklearn.datasets import load_digits\n",
    "\n",
    "digits = load_digits()\n",
    "\n",
    "X = digits.data      # X.shape == (n_samples, n_features)\n",
    "y = digits.target    # y.shape == (n_samples,)\n",
    "\n",
    "X[0]                 # Feature representation of first instance"
   ]
  },
  {
   "cell_type": "markdown",
   "metadata": {
    "slideshow": {
     "slide_type": "subslide"
    }
   },
   "source": [
    "### Feature Engineering\n",
    "\n",
    "“feature engineering is another topic which doesn’t seem to merit any review papers or books, or even chapters in books, but it is absolutely vital to ML success... Much of the success of machine learning is actually success in engineering features that a learner can understand.” \n",
    "\n",
    "Scott Locklin, in “Neglected machine learning ideas”"
   ]
  },
  {
   "cell_type": "markdown",
   "metadata": {
    "slideshow": {
     "slide_type": "fragment"
    }
   },
   "source": [
    "Feature engineering is the process of transforming raw data into features that better represent the underlying problem to the predictive models, resulting in improved model accuracy on unseen data.\n",
    "\n",
    "Jason Brownlee, in “Discover Feature Engineering”"
   ]
  },
  {
   "cell_type": "markdown",
   "metadata": {
    "slideshow": {
     "slide_type": "subslide"
    }
   },
   "source": [
    "### Models\n",
    "\n",
    "“Model” is an overloaded term.\n",
    "\n",
    "- **Model family** describes, at the broadest possible level, the connection between the variables of interest. \n",
    "- **Model form** specifies exactly how the variables of interest are connected within the framework of the model family. \n",
    "- **A fitted model** is a concrete instance of the model form where all parameters have been estimated from data, and the model can be used to generate predictions.\n",
    "\n",
    "\n",
    "&mdash; Hadley Wickham (http://had.co.nz/stat645/model-vis.pdf)"
   ]
  },
  {
   "cell_type": "markdown",
   "metadata": {
    "slideshow": {
     "slide_type": "subslide"
    }
   },
   "source": [
    "### Parameters and Hyperparameters\n",
    "\n",
    "- Models are essentially black boxes, when fitted they learn an internal representation of the decision space which we will generically call _parameters_ here. The parameters (e.g. coefficients of a linear regression) should only be learned from data and not modified by users. \n",
    "- Hyperparameters are the attributes supplied by the user that govern the behavior of the model during both the fit and the prediction process. They are called hyperparameters because they are \"below the decision space\"."
   ]
  },
  {
   "cell_type": "markdown",
   "metadata": {
    "slideshow": {
     "slide_type": "slide"
    }
   },
   "source": [
    "## Machine Learning API\n",
    "\n",
    "Scikit-Learn's primary contribution was an API for machine learning, which has since been adpoted by many other libraries. "
   ]
  },
  {
   "cell_type": "markdown",
   "metadata": {
    "slideshow": {
     "slide_type": "subslide"
    }
   },
   "source": [
    "![Choosing the Right Estimator](figures/choosing_estimator.png)"
   ]
  },
  {
   "cell_type": "markdown",
   "metadata": {
    "slideshow": {
     "slide_type": "subslide"
    }
   },
   "source": [
    "Object-oriented interface centered around the concept of an Estimator: \n",
    "\n",
    "> “An estimator is any object that learns from data; it may be a classification, regression or clustering algorithm or a transformer that extracts/filters useful features from raw data.”\n",
    "\n",
    "&mdash; Scikit-Learn Tutorial"
   ]
  },
  {
   "cell_type": "markdown",
   "metadata": {
    "slideshow": {
     "slide_type": "subslide"
    }
   },
   "source": [
    "### Estimators\n",
    "\n",
    " - `fit(X,y)` sets the state of the estimator.\n",
    " - `X` is usually a 2D `numpy` array of shape `(num_samples, num_features)`.\n",
    " - `y` is a 1D array with shape `(n_samples,)`\n",
    " - When can `y` be `None`?\n",
    " - `Fit` returns `self`. \n"
   ]
  },
  {
   "cell_type": "code",
   "execution_count": 65,
   "metadata": {
    "slideshow": {
     "slide_type": "subslide"
    }
   },
   "outputs": [],
   "source": [
    "class Estimator(object):\n",
    "    \n",
    "    def get_params(self):\n",
    "        \"\"\"\n",
    "        Returns a dictionary of all hyperparams \n",
    "        \"\"\"\n",
    "        pass \n",
    "\n",
    "    def set_params(self, **params):\n",
    "        \"\"\"\n",
    "        Sets hyperparams on the instance \n",
    "        \"\"\"\n",
    "        pass \n",
    "\n",
    "    def fit(self, X, y=None, **kwargs):\n",
    "        \"\"\"\n",
    "        Fit the estimator from data\n",
    "        \"\"\"\n",
    "        # Modify state of self \n",
    "        return self"
   ]
  },
  {
   "cell_type": "markdown",
   "metadata": {
    "slideshow": {
     "slide_type": "subslide"
    }
   },
   "source": [
    "### Predictors\n",
    "\n",
    " - `predict(X)` returns the class or value\n",
    " - `X` is a 2D `numpy` array with shape `(n_rows, n_features)`\n",
    " - Returns a 1D vector with shape `(n_rows,)`\n",
    " - `predict_proba()` or `decision_function()` returns a 2D array of shape `(n_rows, n_classes)`"
   ]
  },
  {
   "cell_type": "code",
   "execution_count": 66,
   "metadata": {
    "slideshow": {
     "slide_type": "subslide"
    }
   },
   "outputs": [],
   "source": [
    "class Predictor(Estimator):\n",
    "    \n",
    "    def predict(self, X, **kwargs):\n",
    "        \"\"\"\n",
    "        Predict values for each row in X \n",
    "        \"\"\"\n",
    "        return y_hat"
   ]
  },
  {
   "cell_type": "markdown",
   "metadata": {
    "slideshow": {
     "slide_type": "subslide"
    }
   },
   "source": [
    "```python\n",
    "from sklearn import svm\n",
    "\n",
    "estimator = svm.SVC(gamma=0.001)\n",
    "estimator.fit(X, y)\n",
    "estimator.predict(x)\n",
    "```"
   ]
  },
  {
   "cell_type": "markdown",
   "metadata": {
    "slideshow": {
     "slide_type": "subslide"
    }
   },
   "source": [
    "### Models \n",
    "\n",
    " - `score(X, y=None)` returns a descriptive metric between 0 and 1 where 0 is bad and 1 is good. \n",
    " - `X` is a 2D `numpy` array with shape `(n_rows, n_features)`\n",
    " - `y` is optionally a 1D vector with \"correct labels\""
   ]
  },
  {
   "cell_type": "code",
   "execution_count": 13,
   "metadata": {
    "slideshow": {
     "slide_type": "subslide"
    }
   },
   "outputs": [],
   "source": [
    "class Model(Predictor):\n",
    "    \n",
    "    def score(self, X, y=None, **kwargs):\n",
    "        \"\"\"\n",
    "        Return a score between 0 and 1\n",
    "        \"\"\"\n",
    "        return score"
   ]
  },
  {
   "cell_type": "markdown",
   "metadata": {
    "slideshow": {
     "slide_type": "subslide"
    }
   },
   "source": [
    "### Transformers\n",
    "\n",
    " - `transform(X)` transforms input data to prepare it for ML.\n",
    " - `X` is a 2D `numpy` array with shape `(n_rows, n_features)`\n",
    " - `X_prime` is a 2D `numpy` array with shape `(m_rows, m_features)`"
   ]
  },
  {
   "cell_type": "code",
   "execution_count": 14,
   "metadata": {
    "slideshow": {
     "slide_type": "subslide"
    }
   },
   "outputs": [],
   "source": [
    "class Transformer(Estimator):\n",
    "    \n",
    "    def transform(self, X, **kwargs):\n",
    "        \"\"\"\n",
    "        Modifies X and returns a new X' \n",
    "        \"\"\"\n",
    "        return X_prime"
   ]
  },
  {
   "cell_type": "markdown",
   "metadata": {
    "slideshow": {
     "slide_type": "subslide"
    }
   },
   "source": [
    "### Data Preprocessing\n",
    "\n",
    "Scikit-Learn provides a utility package, preprocessing to transform raw feature vectors into representations that assist downstream processing, including:\n",
    "\n",
    "- **Standardization**: transform data to mean = zero and unit variance. \n",
    "- **Scaling**: transform feature to lie between range, usually `[0,1]`\n",
    "- **Normalization**: scaling features to a unit norm\n",
    "- **Binarization**: thresholding features to get binary values\n",
    "- **Label Encoding**: transforming labels to numeric values\n",
    "- **Imputation**: infer missing values from known parts of the data\n",
    "- **Data Reduction**: use unsupervised methods to reduce dimensionality."
   ]
  },
  {
   "cell_type": "markdown",
   "metadata": {
    "slideshow": {
     "slide_type": "subslide"
    }
   },
   "source": [
    "### Pipelines\n",
    "\n",
    "The purpose of the pipeline is to assemble several steps that can be cross-validated and operationalized together.\n",
    "\n",
    "Sequentially applies a list of transforms and a final estimator. Intermediate steps of the pipeline must be ‘transforms’, that is, they must implement `fit()` and `transform()` methods. The final estimator only needs to implement `fit()`."
   ]
  },
  {
   "cell_type": "code",
   "execution_count": 15,
   "metadata": {
    "slideshow": {
     "slide_type": "subslide"
    }
   },
   "outputs": [],
   "source": [
    "class Pipeline(Transformer):\n",
    "\n",
    "    @property\n",
    "    def named_steps(self):\n",
    "        \"\"\"\n",
    "        Sequence of estimators\n",
    "        \"\"\"\n",
    "        return self.steps\n",
    "\n",
    "    @property\n",
    "    def _final_estimator(self):\n",
    "        \"\"\"\n",
    "        Terminating estimator\n",
    "        \"\"\"\n",
    "        return self.steps[-1]\n"
   ]
  },
  {
   "cell_type": "markdown",
   "metadata": {
    "slideshow": {
     "slide_type": "slide"
    }
   },
   "source": [
    "## Model Selection\n",
    "\n",
    "Generalized machine learning and the Scikit-Learn API gives us the ability to fit a large number of models on the same data with ease; so how do you select a model for decision making?\n",
    "\n",
    "Goals for models:\n",
    "\n",
    "- Separability \n",
    "- Generalizability \n",
    "- Interpretability"
   ]
  },
  {
   "cell_type": "markdown",
   "metadata": {
    "slideshow": {
     "slide_type": "subslide"
    }
   },
   "source": [
    "![Separability](figures/separability.png)\n",
    "\n",
    "- Models are able to easily distinguish patterns in feature space\n",
    "- Patterns can be “separated” with a hyperplane or region\n",
    "- Decreased covariance between features that describe instances\n",
    "- Loosely: “noiseless”\n"
   ]
  },
  {
   "cell_type": "markdown",
   "metadata": {
    "slideshow": {
     "slide_type": "subslide"
    }
   },
   "source": [
    "![Generalizability](figures/generalizability.png)\n",
    "\n",
    "- Models are able to make predictions on new inputs. \n",
    "- Complete view of the decision region, no narrow windows of decision making or limited information gain (sparsity). \n",
    "- Loosely: “model is sufficient”\n"
   ]
  },
  {
   "cell_type": "markdown",
   "metadata": {
    "slideshow": {
     "slide_type": "subslide"
    }
   },
   "source": [
    "### Model Selection Triple\n",
    "\n",
    "![Model Selection Triple](figures/model_selection_triple.png)"
   ]
  },
  {
   "cell_type": "markdown",
   "metadata": {
    "slideshow": {
     "slide_type": "subslide"
    }
   },
   "source": [
    "### A Search Problem\n",
    "\n",
    "- **Compose** as many model triples as you can think of \n",
    "- **Fit and Evaluate** models in parallel with cluster computing \n",
    "- **Find** the best model for your application via scoring metrics \n",
    "\n",
    "&hellip;"
   ]
  },
  {
   "cell_type": "markdown",
   "metadata": {
    "slideshow": {
     "slide_type": "subslide"
    }
   },
   "source": [
    "### Visual Steering\n",
    "\n",
    "![Visual Steering](figures/visual_steering.png)\n",
    "\n",
    "- Interventions or guidance by human pattern recognition. \n",
    "- Humans engage the modeling process through visualization. \n",
    "- Overview first, zoom and filter, details on demand. "
   ]
  },
  {
   "cell_type": "markdown",
   "metadata": {
    "slideshow": {
     "slide_type": "slide"
    }
   },
   "source": [
    "## Complexity\n",
    "\n",
    "- The \"dial\" that data scientists can turn to adjust the performance of a model is its _complexity_. \n",
    "- There is a trade-off in bias (error due to simple models) and variance (error due to complex models)\n",
    "- Throughout our discussions of models, always ask: \"where are the sources of complexity?\""
   ]
  },
  {
   "cell_type": "markdown",
   "metadata": {
    "slideshow": {
     "slide_type": "subslide"
    }
   },
   "source": [
    "### Bias and Variance\n",
    "\n",
    "![Bias Variance](figures/bias_variance.png)\n",
    "\n",
    "- **Bias**: the difference between expected (average) prediction of the model and the correct value. \n",
    "- **Variance**: how the predictions for a given point vary between different realizations for the model. \n"
   ]
  },
  {
   "cell_type": "markdown",
   "metadata": {
    "slideshow": {
     "slide_type": "subslide"
    }
   },
   "source": [
    "### Bias/Variance Trade-Off\n",
    "\n",
    "![Bias Variance Tradeoff](figures/bias_variance_tradeoff.png)\n",
    "\n",
    "Related to model complexity:\n",
    "The more parameters added to the model (the more complex), Bias is reduced, and variance increased.  "
   ]
  },
  {
   "cell_type": "markdown",
   "metadata": {
    "slideshow": {
     "slide_type": "subslide"
    }
   },
   "source": [
    "### Underfitting\n",
    "\n",
    "![Underfitting](figures/underfitting.png)\n",
    "\n",
    "Not enough information to accurately model real life. Can be due to high bias, or just a too simplistic model."
   ]
  },
  {
   "cell_type": "markdown",
   "metadata": {
    "slideshow": {
     "slide_type": "subslide"
    }
   },
   "source": [
    "### Overfitting\n",
    "\n",
    "![Overfitting](figures/overfitting.png)\n",
    "\n",
    "Create a model with too many parameters or is too complex. “Memorization of the data” - and the model can’t generalize very well. "
   ]
  },
  {
   "cell_type": "markdown",
   "metadata": {
    "slideshow": {
     "slide_type": "subslide"
    }
   },
   "source": [
    "### Cross-Validation\n",
    "\n",
    "![Cross-Validation](figures/cross_validation.png)"
   ]
  },
  {
   "cell_type": "markdown",
   "metadata": {
    "slideshow": {
     "slide_type": "subslide"
    }
   },
   "source": [
    "### Sources of Complexity\n",
    "\n",
    "- Adding and Removing Features \n",
    "- Hyperparameters \n",
    "- Amount of training data \n",
    "- Different algorithmic methods "
   ]
  },
  {
   "cell_type": "markdown",
   "metadata": {
    "slideshow": {
     "slide_type": "subslide"
    }
   },
   "source": [
    "### Interpretability\n",
    "\n",
    "Given two models with similar scoring metrics, select the model that is more explainable. \n",
    "\n",
    "Goal: find the _least complex_ model that is adequately predictable. "
   ]
  },
  {
   "cell_type": "markdown",
   "metadata": {
    "slideshow": {
     "slide_type": "slide"
    }
   },
   "source": [
    "## Deployment\n",
    "\n",
    "While discussing machine learning, it's easy to forget that the purpose of a model is to be used in decision making - the model itself is not the end goal! "
   ]
  },
  {
   "cell_type": "markdown",
   "metadata": {
    "slideshow": {
     "slide_type": "subslide"
    }
   },
   "source": [
    "### Saving Models \n",
    "\n",
    "Models can be saved to disk or a database for use in applications or for archival purposes:\n",
    "\n",
    "- **Pickle**: Python-specific model saving, works for any model\n",
    "- **PMML**: Generic, cross-language model specification, but only for a handful of models."
   ]
  },
  {
   "cell_type": "markdown",
   "metadata": {
    "slideshow": {
     "slide_type": "subslide"
    }
   },
   "source": [
    "### Classification/Regression Workflow\n",
    "\n",
    "![Classification/Regression Workflow](figures/classification_pipeline.png)"
   ]
  },
  {
   "cell_type": "markdown",
   "metadata": {
    "slideshow": {
     "slide_type": "subslide"
    }
   },
   "source": [
    "### Clustering Workflow\n",
    "\n",
    "![Clustering Workflow](figures/clustering_workflow.png)"
   ]
  },
  {
   "cell_type": "markdown",
   "metadata": {
    "slideshow": {
     "slide_type": "subslide"
    }
   },
   "source": [
    "### Data Product Pipeline\n",
    "\n",
    "![Data Product Pipeline](figures/data_product_pipeline.png)"
   ]
  },
  {
   "cell_type": "markdown",
   "metadata": {
    "slideshow": {
     "slide_type": "slide"
    }
   },
   "source": [
    "## Tour of Model Families"
   ]
  },
  {
   "cell_type": "markdown",
   "metadata": {
    "slideshow": {
     "slide_type": "subslide"
    }
   },
   "source": [
    "### Models: Instance Methods\n",
    "\n",
    "Compare instances in data set with a similarity measure to find best matches. \n",
    "\n",
    "Suffers from curse of dimensionality. \n",
    "\n",
    "Focus on feature representation and similarity metrics between instances\n",
    "\n",
    " - k-Nearest Neighbors (kNN)\n",
    " - Self-Organizing Maps (SOM)\n",
    " - Learning Vector Quantization (LVQ)\n"
   ]
  },
  {
   "cell_type": "markdown",
   "metadata": {
    "slideshow": {
     "slide_type": "subslide"
    }
   },
   "source": [
    "### Regression Models\n",
    "\n",
    "Model relationship of independent variables, X to dependent variable Y by iteratively optimizing error made in predictions.\n",
    "\n",
    " - Ordinary Least Squares\n",
    " - Logistic Regression\n",
    " - Stepwise Regression\n",
    " - Multivariate Adaptive Regression Splines (MARS)\n",
    " - Locally Estimated Scatterplot Smoothing (LOESS)\n"
   ]
  },
  {
   "cell_type": "markdown",
   "metadata": {
    "slideshow": {
     "slide_type": "subslide"
    }
   },
   "source": [
    "### Regularization Methods\n",
    "\n",
    "Extend another method (usually regression), penalizing complexity (minimize overfit)\n",
    "\n",
    "simple, popular, powerful \n",
    "\n",
    "better at generalization\n",
    "\n",
    " - Ridge Regression (L2)\n",
    " - LASSO (Least Absolute Shrinkage & Selection Operator) (L1)\n",
    " - Elastic Net (L1 + L2)\n"
   ]
  },
  {
   "cell_type": "markdown",
   "metadata": {
    "slideshow": {
     "slide_type": "subslide"
    }
   },
   "source": [
    "### Decision Trees\n",
    "\n",
    "Model of decisions based on data attributes. Predictions are made by following forks in a tree structure until a decision is made. Used for classification & regression.\n",
    "\n",
    " - Classification and Regression Tree (CART)\n",
    " - Decision Stump\n",
    " - Random Forest\n",
    " - Multivariate Adaptive Regression Splines (MARS)\n",
    " - Gradient Boosting Machines (GBM)\n"
   ]
  },
  {
   "cell_type": "markdown",
   "metadata": {
    "slideshow": {
     "slide_type": "subslide"
    }
   },
   "source": [
    "### Bayesian Models\n",
    "\n",
    "Explicitly apply Bayes’ Theorem for classification and regression tasks. Usually by fitting a probability function constructed via the chain rule and a naive simplification of Bayes.\n",
    "\n",
    " - Naive Bayes\n",
    " - Averaged One-Dependence Estimators (AODE)\n",
    " - Bayesian Belief Network (BBN)\n"
   ]
  },
  {
   "cell_type": "markdown",
   "metadata": {
    "slideshow": {
     "slide_type": "subslide"
    }
   },
   "source": [
    "### Kernel Methods\n",
    "\n",
    "Map input data into higher dimensional vector space where the problem is easier to model. Named after the “kernel trick” which computes the inner product of images of pairs of data.\n",
    "\n",
    " - Support Vector Machines (SVM)\n",
    " - Radial Basis Function (RBF)\n",
    " - Linear Discriminant Analysis (LDA)\n"
   ]
  },
  {
   "cell_type": "markdown",
   "metadata": {
    "slideshow": {
     "slide_type": "subslide"
    }
   },
   "source": [
    "### Clustering Methods\n",
    "\n",
    "Organize data into groups whose members share maximum similarity (defined usually by a distance metric). Two main approaches: centroids and hierarchical clustering.\n",
    "\n",
    " - k-Means\n",
    " - Affinity Propagation\n",
    " - OPTICS (Ordering Points to Identify Cluster Structure)\n",
    " - Agglomerative Clustering\n"
   ]
  },
  {
   "cell_type": "markdown",
   "metadata": {
    "slideshow": {
     "slide_type": "subslide"
    }
   },
   "source": [
    "### Artificial Neural Networks\n",
    "\n",
    "Inspired by biological neural networks, ANNs are nonlinear function approximators that estimate functions with a large number of inputs.\n",
    "\n",
    "System of interconnected neurons that activate \n",
    "\n",
    "Deep learning extends simple networks recursively\n",
    "\n",
    " - Perceptron\n",
    " - Back-Propagation\n",
    " - Hopfield Network\n",
    " - Restricted Boltzmann Machine (RBM)\n",
    " - Deep Neural Networks (DBN)\n"
   ]
  },
  {
   "cell_type": "markdown",
   "metadata": {
    "slideshow": {
     "slide_type": "subslide"
    }
   },
   "source": [
    "### Ensemble Models\n",
    "\n",
    "Models composed of multiple weak models that are trained independently and whose outputs are combined to make an overall prediction.\n",
    "\n",
    " - Boosting\n",
    " - Bootstrapped Aggregation (Bagging)\n",
    " - AdaBoost\n",
    " - Stacked Generalization (blending)\n",
    " - Gradient Boosting Machines (GBM)\n",
    " - Random Forest\n"
   ]
  },
  {
   "cell_type": "markdown",
   "metadata": {
    "slideshow": {
     "slide_type": "subslide"
    }
   },
   "source": [
    "### Other Models\n",
    "\n",
    "The list so far is no where near comprehensive, other algorithm and model classes include:\n",
    "\n",
    " - Conditional Random Fields (CRF)\n",
    " - Markovian Models (HMMs)\n",
    " - Dimensionality Reduction (PCA, PLS)\n",
    " - Rule Learning (Apriori, Brill)\n",
    " - More ...\n"
   ]
  }
 ],
 "metadata": {
  "celltoolbar": "Slideshow",
  "kernelspec": {
   "display_name": "Python 3",
   "language": "python",
   "name": "python3"
  },
  "language_info": {
   "codemirror_mode": {
    "name": "ipython",
    "version": 3
   },
   "file_extension": ".py",
   "mimetype": "text/x-python",
   "name": "python",
   "nbconvert_exporter": "python",
   "pygments_lexer": "ipython3",
   "version": "3.6.2"
  }
 },
 "nbformat": 4,
 "nbformat_minor": 2
}
