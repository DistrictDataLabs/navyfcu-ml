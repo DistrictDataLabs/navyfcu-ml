{
 "cells": [
  {
   "cell_type": "markdown",
   "metadata": {
    "slideshow": {
     "slide_type": "slide"
    }
   },
   "source": [
    "# Instance and Inductive Models"
   ]
  },
  {
   "cell_type": "markdown",
   "metadata": {
    "slideshow": {
     "slide_type": "subslide"
    }
   },
   "source": [
    "![Classification Pipeline](figures/classification_pipeline.png)"
   ]
  },
  {
   "cell_type": "code",
   "execution_count": 1,
   "metadata": {
    "slideshow": {
     "slide_type": "skip"
    }
   },
   "outputs": [],
   "source": [
    "%matplotlib inline \n",
    "\n",
    "import numpy as np\n",
    "import pandas as pd \n",
    "import seaborn as sns \n",
    "import matplotlib.pyplot as plt \n",
    "\n",
    "sns.set_context('notebook')\n",
    "sns.set_style('whitegrid')"
   ]
  },
  {
   "cell_type": "markdown",
   "metadata": {
    "slideshow": {
     "slide_type": "slide"
    }
   },
   "source": [
    "## Classification Metrics I"
   ]
  },
  {
   "cell_type": "markdown",
   "metadata": {
    "slideshow": {
     "slide_type": "subslide"
    }
   },
   "source": [
    "![Classification Metrics](figures/classification_metrics.png)"
   ]
  },
  {
   "cell_type": "markdown",
   "metadata": {
    "slideshow": {
     "slide_type": "subslide"
    }
   },
   "source": [
    "### Binary Classification\n",
    "\n",
    "\n",
    "How well did predicted values match actual labeled values?\n",
    "\n",
    "In a 2-class problem, there are two ways to be “right”:\n",
    " - Classifier correctly identifies cases (aka “True Positives”)\n",
    " - Classifier correctly identifies non-cases (aka “True Negatives”)\n",
    "\n",
    "...and two ways to be “wrong”:\n",
    " - Classifier incorrectly identifies a non-case as a case (aka “False Positive” or “Type I Error”)\n",
    " - Classifier incorrectly identifies a case as a non-case (aka “False Negative” or “Type II Error”)"
   ]
  },
  {
   "cell_type": "markdown",
   "metadata": {
    "slideshow": {
     "slide_type": "subslide"
    }
   },
   "source": [
    "### Multi-Class Classification\n",
    "\n",
    "\n",
    " - How correct were predictions on a per-class basis? How correct overall?\n",
    "\n",
    " - Are certain classes harder to predict?\n",
    "\n",
    " - Do we care more about accurately predicting some classes than others?"
   ]
  },
  {
   "cell_type": "markdown",
   "metadata": {
    "slideshow": {
     "slide_type": "subslide"
    }
   },
   "source": [
    "### Precision and Recall\n",
    "\n",
    "\n",
    "\n",
    "```\n",
    "precision = true positives / (true positives + false positives)\n",
    "\n",
    "recall = true positives / (false negatives + true positives)\n",
    "```"
   ]
  },
  {
   "cell_type": "markdown",
   "metadata": {
    "slideshow": {
     "slide_type": "subslide"
    }
   },
   "source": [
    "![Precision and Recall](figures/precision_recall.png)"
   ]
  },
  {
   "cell_type": "markdown",
   "metadata": {
    "slideshow": {
     "slide_type": "subslide"
    }
   },
   "source": [
    "### F1 and Accuracy\n",
    "\n",
    "\n",
    "\n",
    "```\n",
    "accuracy = true positives + true negatives / total\n",
    "\n",
    "F1 score = 2 * ((precision * recall) / (precision + recall))\n",
    "```"
   ]
  },
  {
   "cell_type": "markdown",
   "metadata": {
    "slideshow": {
     "slide_type": "subslide"
    }
   },
   "source": [
    "### ROC-AUC Curves\n",
    "\n",
    "A ROCAUC (Receiver Operating Characteristic/Area Under the Curve) allows the user to weigh the tradeoff between the classifier’s sensitivity and specificity."
   ]
  },
  {
   "cell_type": "markdown",
   "metadata": {
    "slideshow": {
     "slide_type": "subslide"
    }
   },
   "source": [
    "The Receiver Operating Characteristic (ROC) is a measure of a classifier’s predictive quality that compares and visualizes the tradeoff between the model’s sensitivity and specificity. When plotted, a ROC curve displays the true positive rate on the Y axis and the false positive rate on the X axis on both a global average and per-class basis. The ideal point is therefore the top-left corner of the plot: false positives are zero and true positives are one."
   ]
  },
  {
   "cell_type": "markdown",
   "metadata": {
    "slideshow": {
     "slide_type": "subslide"
    }
   },
   "source": [
    "This leads to another metric, area under the curve (AUC), which is a computation of the relationship between false positives and true positives. The higher the AUC, the better the model generally is. However, it is also important to inspect the “steepness” of the curve, as this describes the maximization of the true positive rate while minimizing the false positive rate."
   ]
  },
  {
   "cell_type": "markdown",
   "metadata": {
    "slideshow": {
     "slide_type": "subslide"
    }
   },
   "source": [
    "\n",
    "```python\n",
    "from sklearn.metrics import roc_curve, auc\n",
    "\n",
    "fpr, tpr, thresholds = roc_curve(y,yhat)\n",
    "roc_auc = auc(fpr, tpr)```\n",
    "\n",
    "\n",
    "Visualize tradeoff between classifier's sensitivity (how well it finds true positives) and specificity (how well it avoids false positives)\n",
    " - straight horizontal line -> perfect classifier\n",
    " - pulling a lot toward the upper left corner -> good accuracy\n",
    " - exactly aligned with the diagonal -> coin toss\n"
   ]
  },
  {
   "cell_type": "code",
   "execution_count": 2,
   "metadata": {
    "slideshow": {
     "slide_type": "skip"
    }
   },
   "outputs": [
    {
     "name": "stderr",
     "output_type": "stream",
     "text": [
      "/Library/Frameworks/Python.framework/Versions/3.6/lib/python3.6/site-packages/ipykernel_launcher.py:11: FutureWarning: Method .as_matrix will be removed in a future version. Use .values instead.\n",
      "  # This is added back by InteractiveShellApp.init_path()\n",
      "/Library/Frameworks/Python.framework/Versions/3.6/lib/python3.6/site-packages/ipykernel_launcher.py:12: FutureWarning: Method .as_matrix will be removed in a future version. Use .values instead.\n",
      "  if sys.path[0] == '':\n"
     ]
    }
   ],
   "source": [
    "from sklearn.model_selection import train_test_split\n",
    "\n",
    "data = pd.read_csv('data/occupancy/occupancy.csv')\n",
    "\n",
    "\n",
    "# Specify the features of interest and the classes of the target\n",
    "features = [\"temperature\", \"relative humidity\", \"light\", \"C02\", \"humidity\"]\n",
    "classes = [\"unoccupied\", \"occupied\"]\n",
    "\n",
    "# Extract the numpy arrays from the data frame\n",
    "X = data[features].as_matrix()\n",
    "y = data.occupancy.as_matrix()\n",
    "\n",
    "# Create the train and test data\n",
    "X_train, X_test, y_train, y_test = train_test_split(X, y, test_size=0.2)"
   ]
  },
  {
   "cell_type": "code",
   "execution_count": 3,
   "metadata": {
    "slideshow": {
     "slide_type": "subslide"
    }
   },
   "outputs": [
    {
     "data": {
      "image/png": "[encoded data removed]",
      "text/plain": [
       "<Figure size 576x396 with 1 Axes>"
      ]
     },
     "metadata": {},
     "output_type": "display_data"
    }
   ],
   "source": [
    "from yellowbrick.classifier import ROCAUC\n",
    "from sklearn.linear_model import LogisticRegression\n",
    "\n",
    "# Instantiate the visualizer with the classification model\n",
    "visualizer = ROCAUC(LogisticRegression(), classes=classes)\n",
    "\n",
    "visualizer.fit(X_train, y_train)  # Fit the training data to the visualizer\n",
    "visualizer.score(X_test, y_test)  # Evaluate the model on the test data\n",
    "g = visualizer.poof()             # Draw/show/poof the data"
   ]
  },
  {
   "cell_type": "markdown",
   "metadata": {
    "slideshow": {
     "slide_type": "subslide"
    }
   },
   "source": [
    "ROC curves are typically used in binary classification, and in fact the Scikit-Learn `roc_curve` metric is only able to perform metrics for binary classifiers. \n",
    "\n",
    "Yellowbrick’s `ROCAUC` Visualizer does allow for plotting multiclass classification curves by binarizing the output (per-class) or to use one-vs-rest (micro score) or one-vs-all (macro score) strategies of classification.\n",
    "\n",
    "\n",
    "(_note: not in master yet, but here's a preview_)"
   ]
  },
  {
   "cell_type": "code",
   "execution_count": 4,
   "metadata": {
    "slideshow": {
     "slide_type": "skip"
    }
   },
   "outputs": [],
   "source": [
    "# Load multi-class classification dataset\n",
    "game = pd.read_csv('data/game/game.csv')\n",
    "\n",
    "classes = [\"win\", \"loss\", \"draw\"]\n",
    "\n",
    "# Encode the non-numeric columns\n",
    "game.replace({'loss':-1, 'draw':0, 'win':1, 'x':2, 'o':3, 'b':4}, inplace=True)\n",
    "\n",
    "# Extract the numpy arrays from the data frame\n",
    "X = game.iloc[:, game.columns != 'outcome']\n",
    "y = game['outcome']\n",
    "\n",
    "# Create the train and test data\n",
    "X_train, X_test, y_train, y_test = train_test_split(X, y, test_size=0.2)"
   ]
  },
  {
   "cell_type": "markdown",
   "metadata": {
    "slideshow": {
     "slide_type": "subslide"
    }
   },
   "source": [
    "```python\n",
    "from sklearn.linear_model import RidgeClassifier\n",
    "\n",
    "visualizer = ROCAUC(RidgeClassifier(), classes=classes)\n",
    "\n",
    "visualizer.fit(X_train, y_train)  # Fit the training data to the visualizer\n",
    "visualizer.score(X_test, y_test)  # Evaluate the model on the test data\n",
    "g = visualizer.poof()             # Draw/show/poof the data\n",
    "```\n",
    "\n",
    "![Multi-class ROCAUC](figures/multi_class_rocauc.png)"
   ]
  },
  {
   "cell_type": "markdown",
   "metadata": {
    "slideshow": {
     "slide_type": "subslide"
    }
   },
   "source": [
    "### Confusion Matrix\n",
    "\n",
    "\n",
    "```python\n",
    "from sklearn.metrics import confusion_matrix\n",
    "```\n",
    "\n",
    " - takes as an argument actual values and predicted values generated by the fitted model\n",
    " - outputs a confusion matrix\n",
    "\n",
    "![Confusion Matrix](figures/confusion_matrix.png)"
   ]
  },
  {
   "cell_type": "markdown",
   "metadata": {
    "slideshow": {
     "slide_type": "subslide"
    }
   },
   "source": [
    "The ConfusionMatrix visualizer is a ScoreVisualizer that takes a fitted scikit-learn classifier and a set of test X and y values and returns a report showing how each of the test values predicted classes compare to their actual classes. Data scientists use confusion matrices to understand which classes are most easily confused. These provide similar information as what is available in a ClassificationReport, but rather than top-level scores, they provide deeper insight into the classification of individual data points."
   ]
  },
  {
   "cell_type": "code",
   "execution_count": 5,
   "metadata": {
    "slideshow": {
     "slide_type": "skip"
    }
   },
   "outputs": [],
   "source": [
    "from sklearn.model_selection import train_test_split\n",
    "\n",
    "\n",
    "game = pd.read_csv('data/game/game.csv')\n",
    "\n",
    "game.replace({'loss':-1, 'draw':0, 'win':1, 'x':2, 'o':3, 'b':4}, inplace=True)\n",
    "\n",
    "X = game.iloc[:, game.columns != 'outcome']\n",
    "y = game['outcome']\n",
    "\n",
    "X_train, X_test, y_train, y_test = train_test_split(X, y, test_size =0.2)"
   ]
  },
  {
   "cell_type": "code",
   "execution_count": 6,
   "metadata": {
    "slideshow": {
     "slide_type": "subslide"
    }
   },
   "outputs": [
    {
     "data": {
      "image/png": "[encoded data removed]",
      "text/plain": [
       "<Figure size 576x396 with 1 Axes>"
      ]
     },
     "metadata": {},
     "output_type": "display_data"
    }
   ],
   "source": [
    "from sklearn.linear_model import LogisticRegression\n",
    "from yellowbrick.classifier import ConfusionMatrix\n",
    "\n",
    "\n",
    "model = LogisticRegression()\n",
    "\n",
    "cm = ConfusionMatrix(model)\n",
    "cm.fit(X_train, y_train)\n",
    "cm.score(X_test, y_test)\n",
    "cm.poof()"
   ]
  },
  {
   "cell_type": "markdown",
   "metadata": {
    "slideshow": {
     "slide_type": "subslide"
    }
   },
   "source": [
    "### Classification Report\n",
    "\n",
    "The classification report visualizer displays the precision, recall, F1, and support scores for the model. In order to support easier interpretation and problem detection, the report integrates numerical scores with a color-coded heatmap. All heatmaps are in the range `(0.0, 1.0)` to facilitate easy comparison of classification models across different classification reports.\n"
   ]
  },
  {
   "cell_type": "markdown",
   "metadata": {
    "slideshow": {
     "slide_type": "subslide"
    }
   },
   "source": [
    "\n",
    "```python\n",
    "from sklearn.metrics import classification_report as cr\n",
    "\n",
    "print(cr(y, yhat, target_names=target_names))\n",
    "```\n",
    "\n",
    "\n",
    " - includes same basic info as confusion matrix\n",
    " - 3 different evaluation metrics: precision, recall, F1 score\n",
    " - includes class labels for interpretability\n"
   ]
  },
  {
   "cell_type": "code",
   "execution_count": 7,
   "metadata": {
    "slideshow": {
     "slide_type": "skip"
    }
   },
   "outputs": [
    {
     "name": "stderr",
     "output_type": "stream",
     "text": [
      "/Library/Frameworks/Python.framework/Versions/3.6/lib/python3.6/site-packages/ipykernel_launcher.py:9: FutureWarning: Method .as_matrix will be removed in a future version. Use .values instead.\n",
      "  if __name__ == '__main__':\n",
      "/Library/Frameworks/Python.framework/Versions/3.6/lib/python3.6/site-packages/ipykernel_launcher.py:10: FutureWarning: Method .as_matrix will be removed in a future version. Use .values instead.\n",
      "  # Remove the CWD from sys.path while we load stuff.\n"
     ]
    }
   ],
   "source": [
    "data = pd.read_csv('data/occupancy/occupancy.csv')\n",
    "\n",
    "\n",
    "# Specify the features of interest and the classes of the target\n",
    "features = [\"temperature\", \"relative humidity\", \"light\", \"C02\", \"humidity\"]\n",
    "classes = [\"unoccupied\", \"occupied\"]\n",
    "\n",
    "# Extract the numpy arrays from the data frame\n",
    "X = data[features].as_matrix()\n",
    "y = data.occupancy.as_matrix()\n",
    "\n",
    "# Create the train and test data\n",
    "X_train, X_test, y_train, y_test = train_test_split(X, y, test_size=0.2)"
   ]
  },
  {
   "cell_type": "code",
   "execution_count": 8,
   "metadata": {
    "slideshow": {
     "slide_type": "subslide"
    }
   },
   "outputs": [
    {
     "data": {
      "image/png": "[encoded data removed]",
      "text/plain": [
       "<Figure size 576x396 with 2 Axes>"
      ]
     },
     "metadata": {},
     "output_type": "display_data"
    }
   ],
   "source": [
    "from sklearn.naive_bayes import GaussianNB\n",
    "from yellowbrick.classifier import ClassificationReport\n",
    "\n",
    "\n",
    "bayes = GaussianNB()\n",
    "visualizer = ClassificationReport(bayes, classes=classes, support=True)\n",
    "\n",
    "visualizer.fit(X_train, y_train)\n",
    "visualizer.score(X_test, y_test)  \n",
    "g = visualizer.poof() "
   ]
  },
  {
   "cell_type": "markdown",
   "metadata": {
    "slideshow": {
     "slide_type": "slide"
    }
   },
   "source": [
    "## Nearest Neighbors"
   ]
  },
  {
   "cell_type": "markdown",
   "metadata": {
    "slideshow": {
     "slide_type": "subslide"
    }
   },
   "source": [
    "Find a predefined (k) samples closest in distance to the input point and predict the label from those. \n",
    "\n",
    "Distance == similarity in this case, and can be any metric measure. Euclidean distance is most common.\n",
    "\n",
    "Non-generalizing: must “remember” all training data.\n",
    "\n",
    "![k-Nearest Neighbors](figures/knn.png)\n"
   ]
  },
  {
   "cell_type": "markdown",
   "metadata": {
    "slideshow": {
     "slide_type": "subslide"
    }
   },
   "source": [
    "In Scikit-Learn the neighbors package provides both supervised and unsupervised nearest neighbors methods - these are simple and effective!"
   ]
  },
  {
   "cell_type": "markdown",
   "metadata": {
    "slideshow": {
     "slide_type": "subslide"
    }
   },
   "source": [
    "### Unsupervised Nearest Neighbors\n",
    "\n",
    "![k-Nearest Neighbors](figures/knn_houses_1.png)"
   ]
  },
  {
   "cell_type": "code",
   "execution_count": 9,
   "metadata": {
    "slideshow": {
     "slide_type": "subslide"
    }
   },
   "outputs": [
    {
     "data": {
      "text/plain": [
       "array([[12.20655562, 42.05948169],\n",
       "       [10.77032961, 32.80243893],\n",
       "       [12.04159458, 44.77722635],\n",
       "       [28.28427125, 14.14213562],\n",
       "       [35.35533906,  7.07106781],\n",
       "       [46.69047012, 41.23105626]])"
      ]
     },
     "execution_count": 9,
     "metadata": {},
     "output_type": "execute_result"
    }
   ],
   "source": [
    "from sklearn.metrics.pairwise import euclidean_distances\n",
    "\n",
    "X = [[3,20],[20,14],[18,1],[30,30],[35,35],[56,2]]\n",
    "y = [[10,10],[40,40]]\n",
    "\n",
    "euclidean_distances(X,y)"
   ]
  },
  {
   "cell_type": "markdown",
   "metadata": {
    "slideshow": {
     "slide_type": "subslide"
    }
   },
   "source": [
    "![k-Nearest Neighbors](figures/knn_houses_2.png)"
   ]
  },
  {
   "cell_type": "markdown",
   "metadata": {
    "slideshow": {
     "slide_type": "subslide"
    }
   },
   "source": [
    "### Pros and Cons of KNN\n",
    "\n",
    "#### Pros \n",
    "\n",
    " - Works well with distance-sensitive data\n",
    " - Simple and effective for a wide array of tasks\n",
    " - Non parametric - works well with irregular decision boundaries.\n",
    " - Often a first approach\n",
    " - No worse than 2x Bayes error rate as data → ∞\n",
    "\n",
    "#### Cons\n",
    "\n",
    " - kNN can be very arbitrary and requires hand-holding to model.\n",
    " - How do you choose k?\n",
    " - What is the definition of neighbor/similarity?\n",
    " - Suffers from the curse of dimensionality.\n"
   ]
  },
  {
   "cell_type": "markdown",
   "metadata": {
    "slideshow": {
     "slide_type": "subslide"
    }
   },
   "source": [
    "### Choosing K\n",
    "\n",
    "K is an arbitrary number between 1 and the number of instances in the data set. Three options for choosing:\n",
    "\n",
    "1. Guess\n",
    "2. Heuristic\n",
    "3. Optimization\n",
    "\n",
    "Tips:\n",
    " - Avoid an even k with only 2 classes (tie break)\n",
    " - Choose k >= # classes + 1\n",
    " - Choose as low a k as possible \n"
   ]
  },
  {
   "cell_type": "markdown",
   "metadata": {
    "slideshow": {
     "slide_type": "subslide"
    }
   },
   "source": [
    "#### Use coprime class and k\n",
    "\n",
    "Coprime numbers don’t share common divisors except for 1. So 4 and 9 are coprime but not 3 and 9. \n",
    "\n",
    "![Coprime class and k](figures/knn_classes_coprime.png)\n"
   ]
  },
  {
   "cell_type": "markdown",
   "metadata": {
    "slideshow": {
     "slide_type": "subslide"
    }
   },
   "source": [
    "#### Use number of classes + 1\n",
    "\n",
    "With k < # of classes, there is no chance that all classes will be represented - but we still want to prevent ties.\n",
    "\n",
    "![Classes plus 1](figures/knn_classes_plus_1.png)"
   ]
  },
  {
   "cell_type": "markdown",
   "metadata": {
    "slideshow": {
     "slide_type": "subslide"
    }
   },
   "source": [
    "### Optimization\n",
    "\n",
    "- Many people assert k should be chosen via domain knowledge - as K increases, the complexity increases and slows down performance.\n",
    " - Minimize error by trying different values of k = Hill Climbing problem. Algorithms: Genetic parameter optimization and simulated annealing. \n",
    " - Iterate 2x through 1% of the data with a variety of K and compute error curve for minimization.\n"
   ]
  },
  {
   "cell_type": "markdown",
   "metadata": {
    "slideshow": {
     "slide_type": "slide"
    }
   },
   "source": [
    "## Decision Trees"
   ]
  },
  {
   "cell_type": "markdown",
   "metadata": {
    "slideshow": {
     "slide_type": "subslide"
    }
   },
   "source": [
    " - Another example of non-parametric inductive learning - but one that generalizes better.\n",
    " - Creates a graphical model of rules that partitions the data until a decision is reached at one of the leaf nodes. \n",
    " - Complexity is related to the amount of data and the partitioning method.\n",
    " \n"
   ]
  },
  {
   "cell_type": "markdown",
   "metadata": {
    "slideshow": {
     "slide_type": "subslide"
    }
   },
   "source": [
    "![Decision Tree Example with Iris Dataset](figures/decision_tree_iris.png)"
   ]
  },
  {
   "cell_type": "markdown",
   "metadata": {
    "slideshow": {
     "slide_type": "subslide"
    }
   },
   "source": [
    "In Scikit-Learn the tree package provides classifiers and regressors based on a decision tree model. "
   ]
  },
  {
   "cell_type": "markdown",
   "metadata": {
    "slideshow": {
     "slide_type": "subslide"
    }
   },
   "source": [
    "### Decision Tree Algorithm\n",
    "\n",
    "Partition data as follows:\n",
    " - Start with whole training data\n",
    " - Select attribute along dimension that gives “best” split\n",
    " - Create child nodes based on split\n",
    " - Recurse on each child using child data until stop\n"
   ]
  },
  {
   "cell_type": "markdown",
   "metadata": {
    "slideshow": {
     "slide_type": "subslide"
    }
   },
   "source": [
    "What is the “best” split?\n",
    "\n",
    "![Best split](figures/decision_tree_best_split.png)"
   ]
  },
  {
   "cell_type": "markdown",
   "metadata": {
    "slideshow": {
     "slide_type": "subslide"
    }
   },
   "source": [
    "### Split Metrics\n",
    "\n",
    "**Gini Impurity (used by CART)**    \n",
    "Measures how often randomly chosen elements would be incorrectly labeled according to distribution in partition. Zero value means all cases fall into single target\n",
    "\n",
    "**Information Gain (ID3 and C5)**    \n",
    "Uses entropy - the amount of information contained in every partition that represents some part of data.\n",
    "\n",
    "**Variance Reduction (CART)**    \n",
    "Maximally select the split where the most variance would be reduced, used for continuous values of data.\n"
   ]
  },
  {
   "cell_type": "markdown",
   "metadata": {
    "slideshow": {
     "slide_type": "subslide"
    }
   },
   "source": [
    "For a set of items where i ∈ {1,2, …, m} and 𝑓i  is the proportion of items in the split labeled i, the Gini Impurity is computed as follows:\n",
    "\n",
    "\n",
    "![Gini](figures/gini.png)\n",
    "\n",
    "\n",
    "Essentially the sum of the probability of an item being chosen times the probability of a mistake being made."
   ]
  },
  {
   "cell_type": "markdown",
   "metadata": {
    "slideshow": {
     "slide_type": "subslide"
    }
   },
   "source": [
    "![Decision tree in process](figures/decision_tree_process.png)"
   ]
  },
  {
   "cell_type": "markdown",
   "metadata": {
    "slideshow": {
     "slide_type": "subslide"
    }
   },
   "source": [
    "### Pros and Cons of Decision Trees\n",
    "\n",
    "#### Pros\n",
    "\n",
    " - Simple to understand; no representational mysticism. Trees can be drawn out.\n",
    " - No need to normalize or standardize (need to deal with missing values).\n",
    " - Low cost\n",
    " - Handle multi-output\n",
    " - Validate with Statistics!\n",
    " - Handles wrong assumptions.\n",
    "\n",
    "#### Cons\n",
    "\n",
    " - Prone to overfit (deep trees don’t generalize)\n",
    " - Minor variations in data cause big changes in tree structure (unstable)... fix with ensemble methods.\n",
    " - Create biases if some classes dominate\n",
    " - Some functions are impossible to model\n"
   ]
  },
  {
   "cell_type": "markdown",
   "metadata": {
    "slideshow": {
     "slide_type": "subslide"
    }
   },
   "source": [
    "### Tips for Avoiding Overfit\n",
    "\n",
    "Ratio of samples to number of features is important, trees in high dimensional space are very likely to overfit.\n",
    "\n",
    "Balance your dataset before training to prevent the tree from creating a tree biased toward the classes that are dominant.\n",
    "\n",
    "Remember that the number of samples required to populate the tree doubles for each additional level the tree grows to. Use max_depth to control the size of the tree to prevent overfitting."
   ]
  },
  {
   "cell_type": "markdown",
   "metadata": {
    "slideshow": {
     "slide_type": "subslide"
    }
   },
   "source": [
    "### Tips for Tuning\n",
    "\n",
    "Visualise your tree as you are training by using the export function. Use max_depth=3 as an initial tree depth to get a feel for how the tree is fitting to your data, and then increase the depth.\n",
    "\n",
    "Perform dimensionality reduction to give tree a better chance of finding features that are discriminative (PCA, ICA, Feature Selection)"
   ]
  },
  {
   "cell_type": "markdown",
   "metadata": {
    "slideshow": {
     "slide_type": "subslide"
    }
   },
   "source": [
    "Or, just use a Random Forest...\n",
    "\n",
    "\n",
    "```python\n",
    "from sklearn.ensemble import RandomForestClassifier\n",
    "\n",
    "splits = train_test_split(digits.data, digits.target, test_size=0.2)\n",
    "X_train, X_test, y_train, y_test = splits\n",
    "\n",
    "model = RandomForestClassifier()\n",
    "model.fit(X_train, y_train)\n",
    "\n",
    "expected = y_test\n",
    "predicted = model.predict(X_test)\n",
    "\n",
    "print(classification_report(expected, predicted))\n",
    "```"
   ]
  },
  {
   "cell_type": "markdown",
   "metadata": {
    "slideshow": {
     "slide_type": "subslide"
    }
   },
   "source": [
    "### Decision Stumps"
   ]
  },
  {
   "cell_type": "markdown",
   "metadata": {
    "slideshow": {
     "slide_type": "slide"
    }
   },
   "source": [
    "## Ensembles"
   ]
  },
  {
   "cell_type": "markdown",
   "metadata": {
    "slideshow": {
     "slide_type": "subslide"
    }
   },
   "source": [
    "### Random Forest"
   ]
  },
  {
   "cell_type": "markdown",
   "metadata": {
    "slideshow": {
     "slide_type": "subslide"
    }
   },
   "source": [
    "Random forests are an ensemble learning method that are effective at correcting for decision trees' habit of overfitting to their training set.\n",
    "\n",
    "\n",
    "The model creates a number of decision trees using the CART algorithm, each on a different subset of the data. The general approach to creating the ensemble is bootstrap aggregation of the decision trees (also known as 'bagging')."
   ]
  },
  {
   "cell_type": "markdown",
   "metadata": {
    "slideshow": {
     "slide_type": "subslide"
    }
   },
   "source": [
    "![Random Forest](figures/random_forest.png)"
   ]
  },
  {
   "cell_type": "markdown",
   "metadata": {
    "slideshow": {
     "slide_type": "subslide"
    }
   },
   "source": [
    "#### Strategy: \n",
    "\n",
    "Construct many decision trees at training time and output...\n",
    "\n",
    "*(Classification)*    \n",
    "...the mode of the classes of the individual trees.\n",
    "\n",
    "*(Regression)*    \n",
    "... the mean prediction of the individual trees. "
   ]
  },
  {
   "cell_type": "code",
   "execution_count": 10,
   "metadata": {
    "slideshow": {
     "slide_type": "skip"
    }
   },
   "outputs": [],
   "source": [
    "from sklearn.datasets import load_diabetes\n",
    "from sklearn.model_selection import train_test_split\n",
    "\n",
    "diabetes = load_diabetes()\n",
    "\n",
    "splits = train_test_split(diabetes.data, diabetes.target, test_size=0.2)\n",
    "X_train, X_test, y_train, y_test = splits"
   ]
  },
  {
   "cell_type": "code",
   "execution_count": 11,
   "metadata": {
    "slideshow": {
     "slide_type": "subslide"
    }
   },
   "outputs": [],
   "source": [
    "from sklearn.ensemble import RandomForestRegressor\n",
    "\n",
    "model = RandomForestRegressor()\n",
    "model.fit(X_train, y_train)\n",
    "\n",
    "expected = y_test\n",
    "predicted = model.predict(X_test)"
   ]
  },
  {
   "cell_type": "code",
   "execution_count": 12,
   "metadata": {
    "slideshow": {
     "slide_type": "skip"
    }
   },
   "outputs": [],
   "source": [
    "import os\n",
    "import requests\n",
    "import pandas as pd\n",
    "\n",
    "HABERMAN_SURVIVAL_URL = \"https://bit.ly/1IPs7Vo\"\n",
    "response = requests.get(HABERMAN_SURVIVAL_URL)\n",
    "outpath = os.path.abspath(\"haberman.txt\")\n",
    "with open(outpath, 'wb') as f:\n",
    "    f.write(response.content)\n",
    "\n",
    "df = pd.read_csv(\"haberman.txt\", header=None, names=[\"age_at_op\",\"op_yr\",\"nr_nodes\",\"survival\"])\n",
    "X = df[[\"age_at_op\",\"op_yr\",\"nr_nodes\"]]\n",
    "y = df[[\"survival\"]]\n",
    "\n",
    "splits = train_test_split(X, y.values.ravel(), test_size=0.2)\n",
    "X_train, X_test, y_train, y_test = splits"
   ]
  },
  {
   "cell_type": "code",
   "execution_count": 13,
   "metadata": {
    "slideshow": {
     "slide_type": "subslide"
    }
   },
   "outputs": [],
   "source": [
    "from sklearn.ensemble import RandomForestClassifier\n",
    "\n",
    "model = RandomForestClassifier()\n",
    "model.fit(X_train, y_train)\n",
    "\n",
    "expected = y_test\n",
    "predicted = model.predict(X_test)"
   ]
  },
  {
   "cell_type": "markdown",
   "metadata": {
    "slideshow": {
     "slide_type": "slide"
    }
   },
   "source": [
    "## Boosting"
   ]
  },
  {
   "cell_type": "markdown",
   "metadata": {
    "slideshow": {
     "slide_type": "subslide"
    }
   },
   "source": [
    "### Gradient Boosting"
   ]
  },
  {
   "cell_type": "markdown",
   "metadata": {
    "slideshow": {
     "slide_type": "subslide"
    }
   },
   "source": [
    "### AdaBoost"
   ]
  }
 ],
 "metadata": {
  "celltoolbar": "Slideshow",
  "kernelspec": {
   "display_name": "Python 3",
   "language": "python",
   "name": "python3"
  },
  "language_info": {
   "codemirror_mode": {
    "name": "ipython",
    "version": 3
   },
   "file_extension": ".py",
   "mimetype": "text/x-python",
   "name": "python",
   "nbconvert_exporter": "python",
   "pygments_lexer": "ipython3",
   "version": "3.6.5"
  }
 },
 "nbformat": 4,
 "nbformat_minor": 2
}
